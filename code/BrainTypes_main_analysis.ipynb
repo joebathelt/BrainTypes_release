{
 "cells": [
  {
   "cell_type": "code",
   "execution_count": 91,
   "metadata": {
    "collapsed": false
   },
   "outputs": [
    {
     "name": "stdout",
     "output_type": "stream",
     "text": [
      "Populating the interactive namespace from numpy and matplotlib\n"
     ]
    },
    {
     "name": "stderr",
     "output_type": "stream",
     "text": [
      "WARNING: pylab import has clobbered these variables: ['style', 'chisquare']\n",
      "`%matplotlib` prevents importing * from pylab and numpy\n"
     ]
    }
   ],
   "source": [
    "%pylab inline"
   ]
  },
  {
   "cell_type": "markdown",
   "metadata": {},
   "source": [
    "Importing the necessary python packages"
   ]
  },
  {
   "cell_type": "code",
   "execution_count": 92,
   "metadata": {
    "collapsed": false
   },
   "outputs": [],
   "source": [
    "import sys\n",
    "sys.path.append('/home/jb07/python_modules/')"
   ]
  },
  {
   "cell_type": "code",
   "execution_count": 93,
   "metadata": {
    "collapsed": false
   },
   "outputs": [],
   "source": [
    "from ipywidgets import fixed, interact\n",
    "import ipywidgets as widgets\n",
    "from matplotlib.colors import LinearSegmentedColormap\n",
    "import matplotlib.pyplot as plt\n",
    "import nibabel as nib\n",
    "import numpy as np\n",
    "import os\n",
    "import pandas as pd\n",
    "import re\n",
    "import seaborn as sns\n",
    "import statsmodels.formula.api as smf\n",
    "import statsmodels.api as sm\n",
    "from statsmodels.formula.api import ols\n",
    "from statsmodels.stats.multitest import multipletests\n",
    "from scipy.stats import chisquare, mannwhitneyu, sem, shapiro, ttest_ind, zscore"
   ]
  },
  {
   "cell_type": "markdown",
   "metadata": {},
   "source": [
    "Importing functions that are re-used through the analyses"
   ]
  },
  {
   "cell_type": "code",
   "execution_count": 94,
   "metadata": {
    "collapsed": true
   },
   "outputs": [],
   "source": [
    "import sys\n",
    "sys.path.append('../code/')"
   ]
  },
  {
   "cell_type": "code",
   "execution_count": 95,
   "metadata": {
    "collapsed": false
   },
   "outputs": [],
   "source": [
    "from BrainTypes_analysis_functions import get_imaging_ID\n",
    "from BrainTypes_analysis_functions import get_consensus_matrix, get_consensus_module_assignment\n",
    "from BrainTypes_analysis_functions import plot_spring_layout, plot_community_matrix"
   ]
  },
  {
   "cell_type": "markdown",
   "metadata": {},
   "source": [
    "Defining general setting for plotting"
   ]
  },
  {
   "cell_type": "code",
   "execution_count": 96,
   "metadata": {
    "collapsed": true
   },
   "outputs": [],
   "source": [
    "from matplotlib import rcParams  \n",
    "rcParams['font.family'] = 'serif'  \n",
    "rcParams['font.serif'] = ['Computer Modern Unicode']  \n",
    "rcParams['text.usetex'] = True  \n",
    "rcParams['axes.labelsize'] = 9  \n",
    "rcParams['xtick.labelsize'] = 9  \n",
    "rcParams['ytick.labelsize'] = 9  \n",
    "rcParams['legend.fontsize'] = 9  \n",
    "mm2inches = 0.039371\n",
    "single_column = 90*mm2inches\n",
    "double_column = 190*mm2inches\n",
    "one_half_column = 140*mm2inches"
   ]
  },
  {
   "cell_type": "markdown",
   "metadata": {},
   "source": [
    "## 1. Processing the diffusion-weighted data"
   ]
  },
  {
   "cell_type": "markdown",
   "metadata": {},
   "source": [
    "This calls a script that submits the processing to a compute cluster with 'qsub'. The code for the processing pipeline is in 'BrainTypes_dwi_preproc.py'"
   ]
  },
  {
   "cell_type": "code",
   "execution_count": 50,
   "metadata": {
    "collapsed": false
   },
   "outputs": [
    {
     "name": "stdout",
     "output_type": "stream",
     "text": [
      "Run dwi preprocessing (y/n/)? y\n",
      "2562325.master01.mrc-cbsu.local\n",
      "2562326.master01.mrc-cbsu.local\n",
      "2562327.master01.mrc-cbsu.local\n",
      "2562328.master01.mrc-cbsu.local\n",
      "2562329.master01.mrc-cbsu.local\n",
      "2562330.master01.mrc-cbsu.local\n",
      "2562331.master01.mrc-cbsu.local\n",
      "2562332.master01.mrc-cbsu.local\n",
      "2562333.master01.mrc-cbsu.local\n",
      "2562334.master01.mrc-cbsu.local\n",
      "2562335.master01.mrc-cbsu.local\n",
      "2562336.master01.mrc-cbsu.local\n",
      "2562337.master01.mrc-cbsu.local\n",
      "2562338.master01.mrc-cbsu.local\n",
      "2562339.master01.mrc-cbsu.local\n",
      "2562340.master01.mrc-cbsu.local\n",
      "2562341.master01.mrc-cbsu.local\n",
      "2562342.master01.mrc-cbsu.local\n",
      "2562343.master01.mrc-cbsu.local\n",
      "2562344.master01.mrc-cbsu.local\n",
      "2562345.master01.mrc-cbsu.local\n",
      "2562346.master01.mrc-cbsu.local\n",
      "2562347.master01.mrc-cbsu.local\n",
      "2562348.master01.mrc-cbsu.local\n",
      "2562349.master01.mrc-cbsu.local\n",
      "2562350.master01.mrc-cbsu.local\n",
      "2562351.master01.mrc-cbsu.local\n",
      "2562352.master01.mrc-cbsu.local\n",
      "2562353.master01.mrc-cbsu.local\n",
      "2562354.master01.mrc-cbsu.local\n",
      "2562355.master01.mrc-cbsu.local\n",
      "2562356.master01.mrc-cbsu.local\n",
      "2562357.master01.mrc-cbsu.local\n",
      "2562358.master01.mrc-cbsu.local\n",
      "2562359.master01.mrc-cbsu.local\n",
      "2562360.master01.mrc-cbsu.local\n",
      "2562361.master01.mrc-cbsu.local\n",
      "2562362.master01.mrc-cbsu.local\n",
      "2562363.master01.mrc-cbsu.local\n",
      "2562364.master01.mrc-cbsu.local\n",
      "2562365.master01.mrc-cbsu.local\n",
      "2562366.master01.mrc-cbsu.local\n",
      "2562367.master01.mrc-cbsu.local\n",
      "2562368.master01.mrc-cbsu.local\n",
      "2562369.master01.mrc-cbsu.local\n",
      "2562370.master01.mrc-cbsu.local\n",
      "2562372.master01.mrc-cbsu.local\n",
      "2562373.master01.mrc-cbsu.local\n",
      "2562374.master01.mrc-cbsu.local\n",
      "2562375.master01.mrc-cbsu.local\n",
      "2562376.master01.mrc-cbsu.local\n",
      "2562377.master01.mrc-cbsu.local\n",
      "2562378.master01.mrc-cbsu.local\n",
      "2562379.master01.mrc-cbsu.local\n",
      "2562380.master01.mrc-cbsu.local\n",
      "2562381.master01.mrc-cbsu.local\n",
      "2562382.master01.mrc-cbsu.local\n",
      "2562383.master01.mrc-cbsu.local\n",
      "2562384.master01.mrc-cbsu.local\n",
      "2562385.master01.mrc-cbsu.local\n",
      "2562386.master01.mrc-cbsu.local\n",
      "2562387.master01.mrc-cbsu.local\n",
      "2562388.master01.mrc-cbsu.local\n",
      "2562389.master01.mrc-cbsu.local\n",
      "2562390.master01.mrc-cbsu.local\n",
      "2562391.master01.mrc-cbsu.local\n",
      "2562392.master01.mrc-cbsu.local\n",
      "2562393.master01.mrc-cbsu.local\n",
      "2562394.master01.mrc-cbsu.local\n",
      "2562395.master01.mrc-cbsu.local\n",
      "2562396.master01.mrc-cbsu.local\n",
      "2562397.master01.mrc-cbsu.local\n",
      "2562398.master01.mrc-cbsu.local\n",
      "2562399.master01.mrc-cbsu.local\n",
      "2562400.master01.mrc-cbsu.local\n",
      "2562401.master01.mrc-cbsu.local\n",
      "2562402.master01.mrc-cbsu.local\n",
      "2562404.master01.mrc-cbsu.local\n",
      "2562405.master01.mrc-cbsu.local\n",
      "2562406.master01.mrc-cbsu.local\n",
      "2562407.master01.mrc-cbsu.local\n",
      "2562408.master01.mrc-cbsu.local\n",
      "2562409.master01.mrc-cbsu.local\n",
      "2562410.master01.mrc-cbsu.local\n",
      "2562411.master01.mrc-cbsu.local\n",
      "2562412.master01.mrc-cbsu.local\n",
      "2562413.master01.mrc-cbsu.local\n",
      "2562414.master01.mrc-cbsu.local\n",
      "2562415.master01.mrc-cbsu.local\n",
      "2562416.master01.mrc-cbsu.local\n",
      "2562417.master01.mrc-cbsu.local\n",
      "2562418.master01.mrc-cbsu.local\n",
      "2562419.master01.mrc-cbsu.local\n",
      "2562420.master01.mrc-cbsu.local\n",
      "2562421.master01.mrc-cbsu.local\n",
      "2562422.master01.mrc-cbsu.local\n",
      "2562423.master01.mrc-cbsu.local\n",
      "2562424.master01.mrc-cbsu.local\n",
      "2562425.master01.mrc-cbsu.local\n",
      "2562426.master01.mrc-cbsu.local\n",
      "2562427.master01.mrc-cbsu.local\n",
      "2562428.master01.mrc-cbsu.local\n",
      "2562429.master01.mrc-cbsu.local\n",
      "2562430.master01.mrc-cbsu.local\n",
      "2562431.master01.mrc-cbsu.local\n",
      "2562432.master01.mrc-cbsu.local\n",
      "2562433.master01.mrc-cbsu.local\n",
      "2562434.master01.mrc-cbsu.local\n",
      "2562435.master01.mrc-cbsu.local\n",
      "2562436.master01.mrc-cbsu.local\n",
      "2562437.master01.mrc-cbsu.local\n",
      "2562438.master01.mrc-cbsu.local\n",
      "2562439.master01.mrc-cbsu.local\n",
      "2562440.master01.mrc-cbsu.local\n",
      "2562441.master01.mrc-cbsu.local\n",
      "2562442.master01.mrc-cbsu.local\n",
      "2562443.master01.mrc-cbsu.local\n",
      "2562444.master01.mrc-cbsu.local\n",
      "2562445.master01.mrc-cbsu.local\n",
      "2562446.master01.mrc-cbsu.local\n",
      "2562447.master01.mrc-cbsu.local\n",
      "2562448.master01.mrc-cbsu.local\n",
      "2562449.master01.mrc-cbsu.local\n",
      "2562450.master01.mrc-cbsu.local\n",
      "2562451.master01.mrc-cbsu.local\n",
      "2562452.master01.mrc-cbsu.local\n",
      "2562453.master01.mrc-cbsu.local\n",
      "2562454.master01.mrc-cbsu.local\n",
      "2562455.master01.mrc-cbsu.local\n",
      "2562456.master01.mrc-cbsu.local\n",
      "2562457.master01.mrc-cbsu.local\n",
      "2562458.master01.mrc-cbsu.local\n",
      "2562459.master01.mrc-cbsu.local\n",
      "2562460.master01.mrc-cbsu.local\n",
      "2562461.master01.mrc-cbsu.local\n",
      "2562462.master01.mrc-cbsu.local\n",
      "2562463.master01.mrc-cbsu.local\n",
      "2562464.master01.mrc-cbsu.local\n",
      "2562465.master01.mrc-cbsu.local\n",
      "2562466.master01.mrc-cbsu.local\n",
      "2562467.master01.mrc-cbsu.local\n",
      "2562468.master01.mrc-cbsu.local\n",
      "2562469.master01.mrc-cbsu.local\n",
      "2562470.master01.mrc-cbsu.local\n",
      "2562471.master01.mrc-cbsu.local\n",
      "2562472.master01.mrc-cbsu.local\n",
      "2562473.master01.mrc-cbsu.local\n",
      "2562474.master01.mrc-cbsu.local\n",
      "2562475.master01.mrc-cbsu.local\n",
      "2562476.master01.mrc-cbsu.local\n",
      "2562477.master01.mrc-cbsu.local\n",
      "2562478.master01.mrc-cbsu.local\n",
      "2562479.master01.mrc-cbsu.local\n",
      "2562480.master01.mrc-cbsu.local\n",
      "2562481.master01.mrc-cbsu.local\n",
      "2562482.master01.mrc-cbsu.local\n",
      "2562483.master01.mrc-cbsu.local\n",
      "2562484.master01.mrc-cbsu.local\n",
      "2562485.master01.mrc-cbsu.local\n",
      "2562486.master01.mrc-cbsu.local\n",
      "2562487.master01.mrc-cbsu.local\n",
      "2562488.master01.mrc-cbsu.local\n",
      "2562489.master01.mrc-cbsu.local\n",
      "2562490.master01.mrc-cbsu.local\n",
      "2562491.master01.mrc-cbsu.local\n",
      "2562492.master01.mrc-cbsu.local\n",
      "2562493.master01.mrc-cbsu.local\n",
      "2562494.master01.mrc-cbsu.local\n",
      "2562495.master01.mrc-cbsu.local\n",
      "2562496.master01.mrc-cbsu.local\n",
      "2562497.master01.mrc-cbsu.local\n",
      "2562498.master01.mrc-cbsu.local\n",
      "2562499.master01.mrc-cbsu.local\n",
      "2562500.master01.mrc-cbsu.local\n",
      "2562501.master01.mrc-cbsu.local\n",
      "2562502.master01.mrc-cbsu.local\n",
      "2562503.master01.mrc-cbsu.local\n",
      "2562504.master01.mrc-cbsu.local\n",
      "2562505.master01.mrc-cbsu.local\n",
      "2562506.master01.mrc-cbsu.local\n",
      "2562507.master01.mrc-cbsu.local\n",
      "2562508.master01.mrc-cbsu.local\n",
      "2562509.master01.mrc-cbsu.local\n",
      "2562510.master01.mrc-cbsu.local\n",
      "2562511.master01.mrc-cbsu.local\n",
      "2562512.master01.mrc-cbsu.local\n",
      "2562513.master01.mrc-cbsu.local\n",
      "2562514.master01.mrc-cbsu.local\n",
      "2562515.master01.mrc-cbsu.local\n",
      "2562516.master01.mrc-cbsu.local\n",
      "2562517.master01.mrc-cbsu.local\n",
      "2562518.master01.mrc-cbsu.local\n",
      "2562519.master01.mrc-cbsu.local\n",
      "2562520.master01.mrc-cbsu.local\n",
      "2562521.master01.mrc-cbsu.local\n",
      "2562522.master01.mrc-cbsu.local\n",
      "2562523.master01.mrc-cbsu.local\n",
      "2562524.master01.mrc-cbsu.local\n",
      "2562525.master01.mrc-cbsu.local\n",
      "2562526.master01.mrc-cbsu.local\n",
      "2562527.master01.mrc-cbsu.local\n",
      "2562528.master01.mrc-cbsu.local\n",
      "2562529.master01.mrc-cbsu.local\n",
      "2562530.master01.mrc-cbsu.local\n",
      "2562531.master01.mrc-cbsu.local\n",
      "2562532.master01.mrc-cbsu.local\n",
      "2562533.master01.mrc-cbsu.local\n",
      "2562534.master01.mrc-cbsu.local\n",
      "2562535.master01.mrc-cbsu.local\n",
      "2562536.master01.mrc-cbsu.local\n",
      "2562537.master01.mrc-cbsu.local\n",
      "2562538.master01.mrc-cbsu.local\n",
      "2562539.master01.mrc-cbsu.local\n",
      "2562540.master01.mrc-cbsu.local\n",
      "2562541.master01.mrc-cbsu.local\n",
      "2562542.master01.mrc-cbsu.local\n",
      "2562543.master01.mrc-cbsu.local\n",
      "2562544.master01.mrc-cbsu.local\n",
      "2562545.master01.mrc-cbsu.local\n",
      "2562546.master01.mrc-cbsu.local\n",
      "2562547.master01.mrc-cbsu.local\n",
      "2562548.master01.mrc-cbsu.local\n",
      "2562549.master01.mrc-cbsu.local\n",
      "2562550.master01.mrc-cbsu.local\n",
      "2562551.master01.mrc-cbsu.local\n",
      "2562552.master01.mrc-cbsu.local\n",
      "2562553.master01.mrc-cbsu.local\n",
      "2562554.master01.mrc-cbsu.local\n",
      "2562555.master01.mrc-cbsu.local\n",
      "2562556.master01.mrc-cbsu.local\n",
      "2562557.master01.mrc-cbsu.local\n",
      "2562558.master01.mrc-cbsu.local\n",
      "2562559.master01.mrc-cbsu.local\n",
      "2562560.master01.mrc-cbsu.local\n",
      "2562561.master01.mrc-cbsu.local\n",
      "2562562.master01.mrc-cbsu.local\n",
      "2562563.master01.mrc-cbsu.local\n",
      "2562564.master01.mrc-cbsu.local\n",
      "2562565.master01.mrc-cbsu.local\n",
      "2562566.master01.mrc-cbsu.local\n",
      "2562567.master01.mrc-cbsu.local\n",
      "2562568.master01.mrc-cbsu.local\n",
      "2562569.master01.mrc-cbsu.local\n",
      "2562570.master01.mrc-cbsu.local\n",
      "2562571.master01.mrc-cbsu.local\n",
      "2562572.master01.mrc-cbsu.local\n",
      "2562573.master01.mrc-cbsu.local\n",
      "2562574.master01.mrc-cbsu.local\n",
      "2562575.master01.mrc-cbsu.local\n",
      "2562576.master01.mrc-cbsu.local\n",
      "2562577.master01.mrc-cbsu.local\n",
      "2562578.master01.mrc-cbsu.local\n",
      "2562579.master01.mrc-cbsu.local\n",
      "2562580.master01.mrc-cbsu.local\n",
      "2562581.master01.mrc-cbsu.local\n",
      "2562582.master01.mrc-cbsu.local\n",
      "2562583.master01.mrc-cbsu.local\n",
      "2562584.master01.mrc-cbsu.local\n",
      "2562585.master01.mrc-cbsu.local\n",
      "2562586.master01.mrc-cbsu.local\n",
      "2562587.master01.mrc-cbsu.local\n",
      "2562588.master01.mrc-cbsu.local\n",
      "2562589.master01.mrc-cbsu.local\n",
      "2562590.master01.mrc-cbsu.local\n",
      "2562591.master01.mrc-cbsu.local\n",
      "2562592.master01.mrc-cbsu.local\n",
      "2562593.master01.mrc-cbsu.local\n",
      "2562594.master01.mrc-cbsu.local\n",
      "2562595.master01.mrc-cbsu.local\n",
      "2562596.master01.mrc-cbsu.local\n",
      "2562597.master01.mrc-cbsu.local\n",
      "2562598.master01.mrc-cbsu.local\n",
      "2562599.master01.mrc-cbsu.local\n",
      "2562600.master01.mrc-cbsu.local\n",
      "2562601.master01.mrc-cbsu.local\n",
      "2562602.master01.mrc-cbsu.local\n",
      "2562603.master01.mrc-cbsu.local\n",
      "2562604.master01.mrc-cbsu.local\n",
      "2562605.master01.mrc-cbsu.local\n",
      "2562606.master01.mrc-cbsu.local\n",
      "2562607.master01.mrc-cbsu.local\n",
      "2562608.master01.mrc-cbsu.local\n",
      "2562609.master01.mrc-cbsu.local\n",
      "2562610.master01.mrc-cbsu.local\n",
      "2562611.master01.mrc-cbsu.local\n",
      "2562612.master01.mrc-cbsu.local\n",
      "2562613.master01.mrc-cbsu.local\n",
      "2562614.master01.mrc-cbsu.local\n",
      "2562615.master01.mrc-cbsu.local\n",
      "2562616.master01.mrc-cbsu.local\n",
      "2562617.master01.mrc-cbsu.local\n",
      "2562618.master01.mrc-cbsu.local\n",
      "2562619.master01.mrc-cbsu.local\n",
      "2562620.master01.mrc-cbsu.local\n",
      "2562621.master01.mrc-cbsu.local\n",
      "2562622.master01.mrc-cbsu.local\n",
      "2562623.master01.mrc-cbsu.local\n",
      "2562624.master01.mrc-cbsu.local\n",
      "2562625.master01.mrc-cbsu.local\n",
      "2562626.master01.mrc-cbsu.local\n",
      "2562627.master01.mrc-cbsu.local\n",
      "2562628.master01.mrc-cbsu.local\n",
      "2562629.master01.mrc-cbsu.local\n",
      "2562630.master01.mrc-cbsu.local\n",
      "2562631.master01.mrc-cbsu.local\n",
      "2562632.master01.mrc-cbsu.local\n",
      "2562633.master01.mrc-cbsu.local\n",
      "2562634.master01.mrc-cbsu.local\n",
      "2562635.master01.mrc-cbsu.local\n",
      "2562636.master01.mrc-cbsu.local\n",
      "2562637.master01.mrc-cbsu.local\n",
      "2562638.master01.mrc-cbsu.local\n",
      "2562639.master01.mrc-cbsu.local\n",
      "2562640.master01.mrc-cbsu.local\n",
      "2562641.master01.mrc-cbsu.local\n",
      "2562642.master01.mrc-cbsu.local\n",
      "2562643.master01.mrc-cbsu.local\n",
      "2562644.master01.mrc-cbsu.local\n",
      "2562645.master01.mrc-cbsu.local\n",
      "2562646.master01.mrc-cbsu.local\n",
      "2562647.master01.mrc-cbsu.local\n",
      "2562648.master01.mrc-cbsu.local\n",
      "2562649.master01.mrc-cbsu.local\n",
      "2562650.master01.mrc-cbsu.local\n",
      "2562651.master01.mrc-cbsu.local\n",
      "2562652.master01.mrc-cbsu.local\n",
      "2562653.master01.mrc-cbsu.local\n",
      "2562654.master01.mrc-cbsu.local\n",
      "2562655.master01.mrc-cbsu.local\n",
      "2562656.master01.mrc-cbsu.local\n",
      "2562657.master01.mrc-cbsu.local\n",
      "2562658.master01.mrc-cbsu.local\n",
      "2562659.master01.mrc-cbsu.local\n",
      "2562660.master01.mrc-cbsu.local\n",
      "2562661.master01.mrc-cbsu.local\n",
      "2562662.master01.mrc-cbsu.local\n",
      "2562663.master01.mrc-cbsu.local\n",
      "2562664.master01.mrc-cbsu.local\n",
      "2562665.master01.mrc-cbsu.local\n",
      "2562666.master01.mrc-cbsu.local\n",
      "2562667.master01.mrc-cbsu.local\n",
      "2562668.master01.mrc-cbsu.local\n",
      "2562669.master01.mrc-cbsu.local\n",
      "2562670.master01.mrc-cbsu.local\n",
      "2562671.master01.mrc-cbsu.local\n",
      "2562672.master01.mrc-cbsu.local\n",
      "2562673.master01.mrc-cbsu.local\n",
      "2562674.master01.mrc-cbsu.local\n",
      "2562675.master01.mrc-cbsu.local\n",
      "2562676.master01.mrc-cbsu.local\n",
      "2562677.master01.mrc-cbsu.local\n",
      "2562678.master01.mrc-cbsu.local\n",
      "2562679.master01.mrc-cbsu.local\n",
      "2562680.master01.mrc-cbsu.local\n",
      "2562681.master01.mrc-cbsu.local\n",
      "2562682.master01.mrc-cbsu.local\n",
      "2562683.master01.mrc-cbsu.local\n",
      "2562684.master01.mrc-cbsu.local\n",
      "2562685.master01.mrc-cbsu.local\n",
      "2562686.master01.mrc-cbsu.local\n",
      "2562687.master01.mrc-cbsu.local\n",
      "2562688.master01.mrc-cbsu.local\n",
      "2562689.master01.mrc-cbsu.local\n",
      "2562690.master01.mrc-cbsu.local\n",
      "2562691.master01.mrc-cbsu.local\n",
      "2562692.master01.mrc-cbsu.local\n",
      "2562693.master01.mrc-cbsu.local\n",
      "2562694.master01.mrc-cbsu.local\n",
      "2562695.master01.mrc-cbsu.local\n",
      "2562696.master01.mrc-cbsu.local\n",
      "2562697.master01.mrc-cbsu.local\n",
      "2562698.master01.mrc-cbsu.local\n",
      "2562699.master01.mrc-cbsu.local\n",
      "2562700.master01.mrc-cbsu.local\n",
      "2562701.master01.mrc-cbsu.local\n",
      "2562702.master01.mrc-cbsu.local\n",
      "2562703.master01.mrc-cbsu.local\n",
      "2562704.master01.mrc-cbsu.local\n",
      "2562705.master01.mrc-cbsu.local\n",
      "2562706.master01.mrc-cbsu.local\n",
      "2562707.master01.mrc-cbsu.local\n",
      "2562708.master01.mrc-cbsu.local\n",
      "2562709.master01.mrc-cbsu.local\n",
      "2562710.master01.mrc-cbsu.local\n",
      "2562711.master01.mrc-cbsu.local\n",
      "2562712.master01.mrc-cbsu.local\n",
      "2562713.master01.mrc-cbsu.local\n",
      "2562714.master01.mrc-cbsu.local\n",
      "2562715.master01.mrc-cbsu.local\n",
      "2562716.master01.mrc-cbsu.local\n"
     ]
    }
   ],
   "source": [
    "user_input = raw_input('Run dwi preprocessing (y/n/)? ')\n",
    "\n",
    "if user_input == 'y':\n",
    "    !python ../code/BrainTypes_dwi_preproc_submission.py"
   ]
  },
  {
   "cell_type": "markdown",
   "metadata": {},
   "source": [
    "Extracting movement and number of volumes from the FSL eddy output"
   ]
  },
  {
   "cell_type": "code",
   "execution_count": null,
   "metadata": {
    "collapsed": true
   },
   "outputs": [],
   "source": [
    "for study in ['CALM', 'NKI', 'ACE']:\n",
    "    in_folder = '/imaging/jb07/CALM/BrainTypes/' + study + '/dwi_preproc/'\n",
    "    filename = lambda subject: in_folder + '_subject_id_' + subject + '/eddy/eddy_corrected.eddy_movement_rms'\n",
    "    subject_list = [subject.split('_')[-1] for subject in os.listdir(in_folder) if os.path.isfile(filename(subject.split('_')[-1]))]\n",
    "\n",
    "    quality_df = []\n",
    "\n",
    "    for subject in subject_list:\n",
    "        max_movement = np.max(pd.read_csv(filename(subject), header=None, delim_whitespace =True)[1].values)\n",
    "        n_volumes = nib.load('/'.join(filename(subject).split('/')[:-1]) + '/eddy_corrected.nii.gz').get_header().get_data_shape()[-1]\n",
    "        quality_df.append({'MRI.ID': subject,\n",
    "                           'movement': max_movement,\n",
    "                           'volumes': n_volumes})\n",
    "\n",
    "    quality_df = pd.DataFrame(quality_df).set_index('MRI.ID')\n",
    "    quality_df.to_csv('../data/derived_data/' + study + '_movement.csv')"
   ]
  },
  {
   "cell_type": "markdown",
   "metadata": {},
   "source": [
    "## 2. Getting FA values for each tract"
   ]
  },
  {
   "cell_type": "code",
   "execution_count": 171,
   "metadata": {
    "collapsed": true
   },
   "outputs": [],
   "source": [
    "def extract_FA_values_per_tract(in_folder, out_file, subject_list, prob_thresh):\n",
    "    import nibabel as nib\n",
    "    import numpy as np\n",
    "    import os\n",
    "    import pandas as pd\n",
    "    import re\n",
    "\n",
    "    filename = lambda subject:  in_folder + '_subject_id_' + subject + '/reg/' + subject + '_Warped.nii.gz'\n",
    "\n",
    "    atlas = os.environ['FSLDIR'] + '/data/atlases/JHU/JHU-ICBM-tracts-maxprob-thr' + prob_thresh + '-1mm.nii.gz'\n",
    "    atlas_data = nib.load(atlas).get_data()\n",
    "    results = []\n",
    "\n",
    "    for subject in subject_list:\n",
    "        subject_img = nib.load(filename(subject))\n",
    "        subject_data = subject_img.get_data()\n",
    "\n",
    "        for tract in np.unique(atlas_data)[1:]:\n",
    "            tract_data = atlas_data.copy()\n",
    "            tract_data[tract_data == tract] = 100\n",
    "            tract_data[tract_data < 100] = 0\n",
    "            tract_data[tract_data == 100] = 1\n",
    "\n",
    "            subject_tract = subject_data*tract_data\n",
    "            tract_value = np.mean(subject_tract[subject_tract > 0])\n",
    "            results.append({'ID': subject,\n",
    "                             'tract': tract,\n",
    "                             'FA': tract_value})\n",
    "\n",
    "    results = pd.DataFrame(results)\n",
    "    results.to_csv(out_file, index=False)"
   ]
  },
  {
   "cell_type": "code",
   "execution_count": null,
   "metadata": {
    "collapsed": true
   },
   "outputs": [],
   "source": [
    "for study in ['NKI', 'ACE', 'CALM']:\n",
    "    in_folder = '/imaging/jb07/CALM/BrainTypes/' + study + '/dwi_preproc/'\n",
    "    out_file = '../data/derived_data/' + study + '_FA_values_by_tract_50.csv'\n",
    "    filename = lambda subject:  in_folder + '_subject_id_' + subject + '/reg/' + subject + '_Warped.nii.gz'\n",
    "    subject_list = [subject.split('_')[-1] for subject in sorted(os.listdir(in_folder)) if os.path.isfile(filename(subject.split('_')[-1]))]\n",
    "    extract_FA_values_per_tract(in_folder, out_file, subject_list, prob_thresh)"
   ]
  },
  {
   "cell_type": "markdown",
   "metadata": {},
   "source": [
    "## 3. Descritpion of sample details"
   ]
  },
  {
   "cell_type": "markdown",
   "metadata": {},
   "source": [
    "In the first step, the data from the three sampels used in this study are loaded. Then, general descriptions of the sample are provided, i.e. number of total files, number of useable files, gender split, and age ranges."
   ]
  },
  {
   "cell_type": "markdown",
   "metadata": {},
   "source": [
    "**NB**: Useable diffusion-weighted data is defined as dwi sequences with less than 3mm displacement between consecutive volumes as obtained through FSL eddy in the processing pipeline"
   ]
  },
  {
   "cell_type": "markdown",
   "metadata": {},
   "source": [
    "**NKI sample**"
   ]
  },
  {
   "cell_type": "code",
   "execution_count": 203,
   "metadata": {
    "collapsed": false
   },
   "outputs": [],
   "source": [
    "nki_details = pd.read_csv('../data/raw_data/NKI_behavioural_data.csv')[['Unnamed: 0', 'AGE_04', 'DEM_002', 'VISIT']]\n",
    "nki_details = nki_details.dropna()\n",
    "nki_details.columns = ['ID', 'Age', 'Gender', 'Visit']\n",
    "nki_details['Age'] = nki_details['Age'].astype('float')"
   ]
  },
  {
   "cell_type": "code",
   "execution_count": 204,
   "metadata": {
    "collapsed": false
   },
   "outputs": [
    {
     "name": "stdout",
     "output_type": "stream",
     "text": [
      "Total number of participants: n=117\n"
     ]
    }
   ],
   "source": [
    "print 'Total number of participants: n=%i' % len(np.unique(nki_details['ID']))"
   ]
  },
  {
   "cell_type": "code",
   "execution_count": 205,
   "metadata": {
    "collapsed": false
   },
   "outputs": [],
   "source": [
    "nki_results = pd.read_csv('../data/derived_data/NKI_FA_values_by_tract_25.csv')\n",
    "nki_details = nki_details[nki_details['ID'].isin(nki_results['ID'])]\n",
    "nki_details = nki_details.drop_duplicates(subset='ID')\n",
    "nki_results = nki_results[nki_results['ID'].isin(nki_details['ID'])]"
   ]
  },
  {
   "cell_type": "code",
   "execution_count": 206,
   "metadata": {
    "collapsed": false,
    "scrolled": true
   },
   "outputs": [
    {
     "name": "stdout",
     "output_type": "stream",
     "text": [
      "Number of useable files: n=74\n",
      "Number of males: n=43\n",
      "Age: mean=13.93, SD=3.164\n",
      "Age range: 6.97 - 21.58\n"
     ]
    }
   ],
   "source": [
    "print 'Number of useable files: n=%i' % len(np.unique(nki_results['ID']))\n",
    "print 'Number of males: n=%i' %nki_details['Gender'].value_counts()[1]\n",
    "print 'Age: mean=%.2f, SD=%.3f' % (np.mean(nki_details['Age']), np.std(nki_details['Age']))\n",
    "print 'Age range: %.2f - %.2f' % (np.min(nki_details['Age']), np.max(nki_details['Age']))"
   ]
  },
  {
   "cell_type": "code",
   "execution_count": 207,
   "metadata": {
    "collapsed": true
   },
   "outputs": [],
   "source": [
    "nki_results['study'] = np.repeat('NKI', nki_results.shape[0])"
   ]
  },
  {
   "cell_type": "markdown",
   "metadata": {},
   "source": [
    "**CALM sample**"
   ]
  },
  {
   "cell_type": "code",
   "execution_count": 208,
   "metadata": {
    "collapsed": true
   },
   "outputs": [],
   "source": [
    "motion_df = pd.read_csv('../data/derived_data/CALM_movement.csv')\n",
    "motion_df.columns = ['ID', 'motion', 'volumes']"
   ]
  },
  {
   "cell_type": "code",
   "execution_count": 209,
   "metadata": {
    "collapsed": false
   },
   "outputs": [
    {
     "name": "stdout",
     "output_type": "stream",
     "text": [
      "Total number of participants: n=210\n"
     ]
    }
   ],
   "source": [
    "print 'Total number of participants: n=%i' % len(np.unique(motion_df['ID']))"
   ]
  },
  {
   "cell_type": "code",
   "execution_count": 210,
   "metadata": {
    "collapsed": false
   },
   "outputs": [],
   "source": [
    "calm_results = pd.read_csv('../data/derived_data/CALM_FA_values_by_tract_25.csv')\n",
    "calm_details = pd.read_csv('../data/raw_data/CALM_behavioural_data_Apr17.csv')[['ID No.', 'Gender(1=male)', 'Age_in_months']]\n",
    "calm_details = calm_details.dropna()\n",
    "calm_details['MRI.ID'] = [get_imaging_ID(str(int(ID)), '../data/raw_data/MRI_ID_match_Aug17.csv') for ID in calm_details['ID No.']]\n",
    "calm_details = calm_details[calm_details['MRI.ID'].isin(calm_results['ID'])]\n",
    "calm_details['Age'] = calm_details['Age_in_months']/12\n",
    "calm_results = calm_results[calm_results['ID'].isin(calm_details['MRI.ID'].values)]"
   ]
  },
  {
   "cell_type": "code",
   "execution_count": 211,
   "metadata": {
    "collapsed": false
   },
   "outputs": [
    {
     "name": "stdout",
     "output_type": "stream",
     "text": [
      "Number of useable files: n=193\n",
      "Number of males: n=133\n",
      "Age: mean=9.62, SD=2.151\n",
      "Age range: 5.50 - 17.92\n"
     ]
    }
   ],
   "source": [
    "print 'Number of useable files: n=%i' % len(np.unique(calm_results['ID']))\n",
    "print 'Number of males: n=%i' %calm_details['Gender(1=male)'].value_counts()[1]\n",
    "print 'Age: mean=%.2f, SD=%.3f' % (np.mean(calm_details['Age']), np.std(calm_details['Age']))\n",
    "print 'Age range: %.2f - %.2f' % (np.min(calm_details['Age']), np.max(calm_details['Age']))"
   ]
  },
  {
   "cell_type": "code",
   "execution_count": 212,
   "metadata": {
    "collapsed": true
   },
   "outputs": [],
   "source": [
    "calm_results['study'] = np.repeat('CALM', calm_results.shape[0])"
   ]
  },
  {
   "cell_type": "markdown",
   "metadata": {},
   "source": [
    "**ACE sample**"
   ]
  },
  {
   "cell_type": "code",
   "execution_count": 213,
   "metadata": {
    "collapsed": true
   },
   "outputs": [],
   "source": [
    "motion_df = pd.read_csv('../data/derived_data/ACE_movement.csv')\n",
    "motion_df.columns = ['ID', 'motion', 'volumes']"
   ]
  },
  {
   "cell_type": "code",
   "execution_count": 214,
   "metadata": {
    "collapsed": false
   },
   "outputs": [
    {
     "name": "stdout",
     "output_type": "stream",
     "text": [
      "Total number of participants: n=86\n"
     ]
    }
   ],
   "source": [
    "print 'Total number of participants: n=%i' % len(np.unique(motion_df['ID']))"
   ]
  },
  {
   "cell_type": "code",
   "execution_count": 215,
   "metadata": {
    "collapsed": false,
    "scrolled": true
   },
   "outputs": [],
   "source": [
    "ace_results = pd.read_csv('../data/derived_data/ACE_FA_values_by_tract_25.csv')\n",
    "ace_details = pd.read_csv('../data/raw_data/ACE_demographic_data.csv')\n",
    "ace_details = ace_details.dropna()\n",
    "ace_details = ace_details[ace_details['MRI.ID'].isin(ace_results['ID'])]\n",
    "ace_details['Age'] = ace_details['Age']/12\n",
    "ace_results = ace_results[ace_results['ID'].isin(ace_details['MRI.ID'].values)]"
   ]
  },
  {
   "cell_type": "code",
   "execution_count": 216,
   "metadata": {
    "collapsed": false
   },
   "outputs": [
    {
     "name": "stdout",
     "output_type": "stream",
     "text": [
      "Number of useable files: n=86\n",
      "Number of males: n=42\n",
      "Age: mean=9.99, SD=1.508\n",
      "Age range: 6.92 - 12.65\n"
     ]
    }
   ],
   "source": [
    "print 'Number of useable files: n=%i' % len(np.unique(ace_results['ID']))\n",
    "print 'Number of males: n=%i' %ace_details['Gender'].value_counts()[1]\n",
    "print 'Age: mean=%.2f, SD=%.3f' % (np.mean(ace_details['Age']), np.std(ace_details['Age']))\n",
    "print 'Age range: %.2f - %.2f' % (np.min(ace_details['Age']), np.max(ace_details['Age']))"
   ]
  },
  {
   "cell_type": "code",
   "execution_count": 217,
   "metadata": {
    "collapsed": false
   },
   "outputs": [],
   "source": [
    "ace_results['study'] = np.repeat('ACE', ace_results.shape[0])"
   ]
  },
  {
   "cell_type": "markdown",
   "metadata": {},
   "source": [
    "\n",
    "## 2. Looking for differences between the studies"
   ]
  },
  {
   "cell_type": "code",
   "execution_count": 192,
   "metadata": {
    "collapsed": true
   },
   "outputs": [],
   "source": [
    "labels = ['Anterior thalamic radiation L', 'Anterior thalamic radiation R', 'Corticospinal tract L', 'Corticospinal tract R', 'Cingulum (cingulate gyrus) L', 'Cingulum (cingulate gyrus) R', 'Cingulum (hippocampus) L', 'Cingulum (hippocampus) R', 'Forceps major', 'Forceps minor', 'IFOF L', 'IFOF R', 'ILF L', 'ILF R', 'SLF L', 'SLF R', 'Uncinate fasciculus L', 'Uncinate fasciculus R', 'SLF (temporal part) L', 'SLF (temporal part) R']"
   ]
  },
  {
   "cell_type": "code",
   "execution_count": 193,
   "metadata": {
    "collapsed": false
   },
   "outputs": [],
   "source": [
    "results = pd.concat([ace_results, calm_results, nki_results])"
   ]
  },
  {
   "cell_type": "code",
   "execution_count": 194,
   "metadata": {
    "collapsed": false
   },
   "outputs": [
    {
     "data": {
      "image/png": "[encoded data removed]",
      "text/plain": [
       "<matplotlib.figure.Figure at 0x7fb0bce956d0>"
      ]
     },
     "metadata": {},
     "output_type": "display_data"
    }
   ],
   "source": [
    "sns.set_style(\"whitegrid\")\n",
    "sns.set_style({'axes.grid': False,\n",
    "               'font.family': [u'serif'],\n",
    "               'font.sans-serif': [u'Computer Modern Unicode'],})\n",
    "\n",
    "sns.boxplot(x='tract', y='FA', hue='study', data=results)\n",
    "plt.xlabel(' ')\n",
    "ax = plt.gca()\n",
    "ax.set_xticklabels(labels, rotation='90')\n",
    "ax.set_axis_bgcolor('white')\n",
    "ax.spines['top'].set_visible(False)\n",
    "ax.spines['right'].set_visible(False)"
   ]
  },
  {
   "cell_type": "code",
   "execution_count": 195,
   "metadata": {
    "collapsed": false
   },
   "outputs": [
    {
     "data": {
      "text/html": [
       "<div>\n",
       "<table border=\"1\" class=\"dataframe\">\n",
       "  <thead>\n",
       "    <tr style=\"text-align: right;\">\n",
       "      <th></th>\n",
       "      <th>df</th>\n",
       "      <th>sum_sq</th>\n",
       "      <th>mean_sq</th>\n",
       "      <th>F</th>\n",
       "      <th>PR(&gt;F)</th>\n",
       "    </tr>\n",
       "  </thead>\n",
       "  <tbody>\n",
       "    <tr>\n",
       "      <th>C(tract)</th>\n",
       "      <td>19</td>\n",
       "      <td>31.422</td>\n",
       "      <td>1.654</td>\n",
       "      <td>877.990</td>\n",
       "      <td>0</td>\n",
       "    </tr>\n",
       "    <tr>\n",
       "      <th>C(study)</th>\n",
       "      <td>2</td>\n",
       "      <td>65.702</td>\n",
       "      <td>32.851</td>\n",
       "      <td>17440.335</td>\n",
       "      <td>0</td>\n",
       "    </tr>\n",
       "    <tr>\n",
       "      <th>C(tract):C(study)</th>\n",
       "      <td>38</td>\n",
       "      <td>4.127</td>\n",
       "      <td>0.109</td>\n",
       "      <td>57.664</td>\n",
       "      <td>0</td>\n",
       "    </tr>\n",
       "    <tr>\n",
       "      <th>Residual</th>\n",
       "      <td>6169</td>\n",
       "      <td>11.620</td>\n",
       "      <td>0.002</td>\n",
       "      <td>NaN</td>\n",
       "      <td>NaN</td>\n",
       "    </tr>\n",
       "  </tbody>\n",
       "</table>\n",
       "</div>"
      ],
      "text/plain": [
       "                     df  sum_sq  mean_sq          F  PR(>F)\n",
       "C(tract)             19  31.422    1.654    877.990       0\n",
       "C(study)              2  65.702   32.851  17440.335       0\n",
       "C(tract):C(study)    38   4.127    0.109     57.664       0\n",
       "Residual           6169  11.620    0.002        NaN     NaN"
      ]
     },
     "execution_count": 195,
     "metadata": {},
     "output_type": "execute_result"
    }
   ],
   "source": [
    "lm = smf.ols('FA ~ C(tract) + C(study) + C(tract)*C(study)', data=results).fit()\n",
    "sm.stats.anova_lm(lm, type=2).round(3)"
   ]
  },
  {
   "cell_type": "markdown",
   "metadata": {},
   "source": [
    "**Conclusion**: There is a systematic difference in FA between the studies"
   ]
  },
  {
   "cell_type": "markdown",
   "metadata": {},
   "source": [
    "## 3. Feature variation"
   ]
  },
  {
   "cell_type": "code",
   "execution_count": 75,
   "metadata": {
    "collapsed": false
   },
   "outputs": [],
   "source": [
    "def get_feature_variance(df):\n",
    "    feature_variance = pd.DataFrame(df.groupby('tract')['FA'].apply(np.var))\n",
    "    feature_variance.index = labels\n",
    "    feature_variance = feature_variance.sort_values(by='FA', ascending=False)\n",
    "    \n",
    "    sns.set_style(\"ticks\")\n",
    "    sns.set_style({'axes.grid': False,\n",
    "               'font.family': [u'serif'],\n",
    "               'font.sans-serif': [u'Computer Modern Unicode'],})\n",
    "    plt.figure(figsize=(single_column, single_column), dpi=300)\n",
    "    \n",
    "    sns.barplot(x=feature_variance.index, y='FA', data=feature_variance, palette='Reds_r')\n",
    "    sns.despine(offset=8, trim=True)\n",
    "    plt.ylabel('variance')\n",
    "    ax = plt.gca()\n",
    "    ax.set_xticklabels(feature_variance.index, rotation='90');\n",
    "    ax.set_axis_bgcolor('white')\n",
    "    ax.spines['top'].set_visible(False)\n",
    "    ax.spines['right'].set_visible(False)\n",
    "    plt.tight_layout()\n",
    "    \n",
    "    return feature_variance"
   ]
  },
  {
   "cell_type": "code",
   "execution_count": 76,
   "metadata": {
    "collapsed": false,
    "scrolled": true
   },
   "outputs": [
    {
     "data": {
      "image/png": "[encoded data removed]",
      "text/plain": [
       "<matplotlib.figure.Figure at 0x7f755d349f50>"
      ]
     },
     "metadata": {},
     "output_type": "display_data"
    }
   ],
   "source": [
    "nki_variance = get_feature_variance(nki_results)\n",
    "plt.savefig('../results/figures/NKI_variance.png', dpi=300)"
   ]
  },
  {
   "cell_type": "markdown",
   "metadata": {},
   "source": [
    "## 4. Consensus clustering"
   ]
  },
  {
   "cell_type": "code",
   "execution_count": 359,
   "metadata": {
    "collapsed": false
   },
   "outputs": [],
   "source": [
    "def gather(df):\n",
    "    \n",
    "    newdf= pd.DataFrame()\n",
    "    for counter in np.unique(df['tract']):\n",
    "        newdf[counter] = df[df['tract'] == counter].groupby('ID')['FA'].mean()\n",
    "\n",
    "    newdf.index = np.unique(df[df['tract'] == counter]['ID'])\n",
    "    return newdf\n",
    "\n",
    "def get_community_clustering(results):\n",
    "    results[results.columns] = results.apply(zscore)\n",
    "    correlation_matrix = results.transpose().corr().values\n",
    "    community_affiliation,q = get_consensus_module_assignment(correlation_matrix, 100)\n",
    "    \n",
    "    return correlation_matrix, community_affiliation, q\n",
    "\n",
    "def group_difference_overview(results, communities):\n",
    "    new = results.copy()\n",
    "    new[new.columns] = new.apply(zscore)\n",
    "    new['groups'] = communities\n",
    "    new = pd.melt(new, id_vars='groups')\n",
    "    new.columns = ['groups', 'tract', 'FA']\n",
    "    colours = ['darkorange', 'gold', 'aqua']\n",
    "    counter = 0\n",
    "    \n",
    "    sns.set_style(\"ticks\")\n",
    "    sns.set_style({'axes.grid': False,\n",
    "               'font.family': [u'serif'],\n",
    "               'font.sans-serif': [u'Computer Modern Unicode'],})\n",
    "    \n",
    "    plt.figure(figsize=(one_half_column/2 + 1, one_half_column), dpi=300)\n",
    "    for group in np.unique(new['groups']):\n",
    "        temp_df = new.copy()\n",
    "        temp_df = temp_df[temp_df['groups'] == group]\n",
    "        means = temp_df.groupby('tract')['FA'].mean().values\n",
    "        SEs = temp_df.groupby('tract')['FA'].apply(sem).values\n",
    "        xs = np.arange(1, len(np.unique(temp_df['tract']))+1)\n",
    "        plt.errorbar(x=xs, y=means, yerr=2*SEs, color=colours[counter])\n",
    "        counter += 1\n",
    "        \n",
    "    sns.despine(offset=10, trim=True)\n",
    "    plt.xlim(-1, len(np.unique(new['tract'])) + 1)\n",
    "    plt.ylim([-1, 1.5])\n",
    "    plt.ylabel('FA [zscore]')\n",
    "    ax = plt.gca()\n",
    "    ax.set_xticks(np.arange(1, len(np.unique(new['tract']))+1))\n",
    "    ax.set_xticklabels(labels, rotation='90');\n",
    "    ax.spines['top'].set_visible(False)\n",
    "    ax.spines['right'].set_visible(False)\n",
    "    ax.xaxis.set_ticks_position('bottom')\n",
    "    ax.yaxis.set_ticks_position('left')\n",
    "    plt.legend(['C' + str(i) for i in np.unique(new['groups'])])\n",
    "    plt.tight_layout()\n",
    "\n",
    "def determine_groups(other_df, region):\n",
    "    minimum = np.mean(nki_df[all_communities == 1][region]) - sem(nki_df[all_communities == 1][region])\n",
    "    maximum = np.mean(nki_df[all_communities == 2][region]) + sem(nki_df[all_communities == 2][region])\n",
    "\n",
    "    new_df = pd.DataFrame(index=other_df.index, data={'value': other_df[region].values, \n",
    "                            'group': 2*(other_df[region].values > minimum) + 1*(other_df[region].values < maximum)})\n",
    "    return new_df\n",
    "\n",
    "def compare_other_groups(df):\n",
    "    # Getting the group assignment with reference to the NKI grouping\n",
    "    new_df1 = determine_groups(df, 'Cingulum (cingulate gyrus) L')\n",
    "    new_df1['region'] = np.repeat('Cing L', new_df1.shape[0])\n",
    "    new_df2 = determine_groups(df, 'Cingulum (cingulate gyrus) R')\n",
    "    new_df2['region'] = np.repeat('Cing R', new_df2.shape[0])\n",
    "    plot_df = pd.concat([new_df1[['value','region', 'group']], new_df2[['value', 'region', 'group']]])\n",
    "        \n",
    "    # Plotting the distribution of values\n",
    "    sns.set_style(\"ticks\")\n",
    "    sns.set_style({'axes.grid': False,\n",
    "               'font.family': [u'serif'],\n",
    "               'font.sans-serif': [u'Computer Modern Unicode'],})\n",
    "    my_palette = sns.color_palette(['#FF8C00', '#FFD700', '#D3D3D3'])\n",
    "\n",
    "    plt.figure(figsize=(1.5, 0.6*one_half_column), dpi=300)\n",
    "    sns.stripplot(x='region', y='value', hue='group', data=plot_df,\n",
    "                  split=False, jitter=True, size=5, palette=my_palette)\n",
    "    plt.ylim([-.16, .16])\n",
    "    sns.despine(offset=10, trim=True)\n",
    "    plt.xlabel(' ')\n",
    "    plt.ylabel(' ')\n",
    "    ax = plt.gca()\n",
    "    ax.legend_.remove()\n",
    "    ax.set_xticks(np.arange(0, len(np.unique(plot_df['region']))))\n",
    "    ax.set_xticklabels(np.unique(plot_df['region']), rotation='90');\n",
    "    ax.spines['top'].set_visible(False)\n",
    "    ax.spines['right'].set_visible(False)\n",
    "    ax.xaxis.set_ticks_position('bottom')\n",
    "    ax.yaxis.set_ticks_position('left')\n",
    "    plt.tight_layout()\n",
    "    \n",
    "    # Compare proportion of groups statistically\n",
    "    for region in ['Cing L', 'Cing R']:\n",
    "        observed = plot_df.groupby('region')['group'].value_counts()[region].sort_index().values[1:]\n",
    "        expected = np.repeat(np.sum(observed)/2, 2)\n",
    "        chi,p = chisquare(observed, expected)\n",
    "        print('Results of chi-square comparison: chi=%.2f, p=%.3f' % (chi, p))\n",
    "        \n",
    "    return plot_df\n",
    "\n",
    "def get_within_and_between_strength(correlation_matrix, all_communities):\n",
    "    intra_corr = []\n",
    "    for group in np.unique(all_communities):\n",
    "        intra_correlations = correlation_matrix.copy()\n",
    "        intra_correlations = np.squeeze(intra_correlations[np.where(all_communities == group), :])\n",
    "        intra_correlations = np.squeeze(intra_correlations[:, np.where(all_communities == group)])\n",
    "        intra_corr.append(np.sum(intra_correlations))\n",
    "    intra_corr = np.mean(intra_corr)\n",
    "\n",
    "    groups = np.unique(all_communities)\n",
    "    inter_correlations = correlation_matrix.copy()\n",
    "    inter_correlations = np.squeeze(inter_correlations[np.where(all_communities == groups[0]), :])\n",
    "    inter_correlations = np.squeeze(inter_correlations[:, np.where(all_communities == groups[1])])\n",
    "    inter_corr = np.sum(inter_correlations)\n",
    "    \n",
    "    return intra_corr, inter_corr\n",
    "\n",
    "def test_group_assignment(correlation_matrix, all_communities):\n",
    "    permutation_sample = []\n",
    "    intra_corr, inter_corr = get_within_and_between_strength(correlation_matrix, all_communities)\n",
    "\n",
    "    for i in np.arange(0,1000):\n",
    "        random_communities = all_communities.copy()\n",
    "        np.random.shuffle(random_communities)\n",
    "        permutation_sample.append(get_within_and_between_strength(correlation_matrix, random_communities))\n",
    "\n",
    "    random_intra_correlation = np.asarray(permutation_sample)[:, 0]\n",
    "    random_inter_correlation = np.asarray(permutation_sample)[:, 1]\n",
    "\n",
    "    intra_p = float(len(np.where(intra_corr <  random_intra_correlation)))/len(random_intra_correlation)\n",
    "    inter_p = float(len(np.where(inter_corr >  random_inter_correlation)))/len(random_intra_correlation)\n",
    "    \n",
    "    \n",
    "    print('Observed intra-correlation: %.2f' % intra_corr)\n",
    "    print('Observed inter-correlation: %.2f' % inter_corr)\n",
    "    print('intra-correlation vs random: %.3f' % intra_p)\n",
    "    print('inter-correlation vs random: %.3f' % inter_p)"
   ]
  },
  {
   "cell_type": "markdown",
   "metadata": {},
   "source": [
    "Regressing age from the tract values"
   ]
  },
  {
   "cell_type": "code",
   "execution_count": 197,
   "metadata": {
    "collapsed": true
   },
   "outputs": [],
   "source": [
    "def regress_age_effect(df, details):\n",
    "    df = gather(df)\n",
    "    df.columns = labels\n",
    "    df['Age'] = details['Age'].values\n",
    "\n",
    "    for tract in df.columns[:-1]:\n",
    "        df[tract] = smf.ols('y ~ X', data=pd.DataFrame({'y':df[tract].values, 'X':df['Age'].values})).fit().resid.values\n",
    "    \n",
    "    return df"
   ]
  },
  {
   "cell_type": "code",
   "execution_count": 218,
   "metadata": {
    "collapsed": false
   },
   "outputs": [],
   "source": [
    "ace_df = regress_age_effect(ace_results, ace_details)\n",
    "ace_df['study'] = np.repeat('ace', len(ace_df.index))\n",
    "\n",
    "calm_df = regress_age_effect(calm_results, calm_details)\n",
    "calm_df['study'] = np.repeat('calm', len(calm_df.index))\n",
    "\n",
    "nki_df = regress_age_effect(nki_results, nki_details)\n",
    "nki_df['study'] = np.repeat('nki', len(nki_df.index))"
   ]
  },
  {
   "cell_type": "markdown",
   "metadata": {},
   "source": [
    "Saving the NKI results to do robustness tests further down"
   ]
  },
  {
   "cell_type": "code",
   "execution_count": 80,
   "metadata": {
    "collapsed": false
   },
   "outputs": [],
   "source": [
    "nki_df.to_csv('../results/NKI_age_regressed.csv', index=True, index_label='MRI.ID')"
   ]
  },
  {
   "cell_type": "markdown",
   "metadata": {},
   "source": [
    "Running community clustering to create a grouping based on the age-regressed FA values within the tract"
   ]
  },
  {
   "cell_type": "code",
   "execution_count": 270,
   "metadata": {
    "collapsed": false,
    "scrolled": false
   },
   "outputs": [
    {
     "data": {
      "image/png": "[encoded data removed]",
      "text/plain": [
       "<matplotlib.figure.Figure at 0x7fb0bd5c7850>"
      ]
     },
     "metadata": {},
     "output_type": "display_data"
    }
   ],
   "source": [
    "correlation_matrix, all_communities, all_q = get_community_clustering(nki_df[nki_df.columns[1:-2]])\n",
    "plot_community_matrix(correlation_matrix, all_communities)\n",
    "#plt.savefig('../results/figures/NKI_adjmat.png', dpi=300)"
   ]
  },
  {
   "cell_type": "markdown",
   "metadata": {},
   "source": [
    "Creating a spring layout plot"
   ]
  },
  {
   "cell_type": "code",
   "execution_count": 113,
   "metadata": {
    "collapsed": false
   },
   "outputs": [
    {
     "data": {
      "image/png": "[encoded data removed]",
      "text/plain": [
       "<matplotlib.figure.Figure at 0x7fb0bd916090>"
      ]
     },
     "metadata": {},
     "output_type": "display_data"
    }
   ],
   "source": [
    "plot_spring_layout(nki_df[nki_df.columns[1:-2]], all_communities, 0.3)\n",
    "#plt.savefig('../results/figures/NKI_spring_layout.png', dpi=300)"
   ]
  },
  {
   "cell_type": "markdown",
   "metadata": {},
   "source": [
    "spring plot QQR"
   ]
  },
  {
   "cell_type": "code",
   "execution_count": 118,
   "metadata": {
    "collapsed": false
   },
   "outputs": [],
   "source": [
    "nki_df = pd.read_csv('../results/NKI_age_regressed.csv')\n",
    "results = nki_df[nki_df.columns[1:-2]]\n",
    "communities = all_communities"
   ]
  },
  {
   "cell_type": "code",
   "execution_count": 140,
   "metadata": {
    "collapsed": false
   },
   "outputs": [
    {
     "data": {
      "image/png": "[encoded data removed]",
      "text/plain": [
       "<matplotlib.figure.Figure at 0x7fb0bd402490>"
      ]
     },
     "metadata": {},
     "output_type": "display_data"
    }
   ],
   "source": [
    "import bct\n",
    "import matplotlib.pyplot as plt\n",
    "import networkx as nx\n",
    "import numpy as np\n",
    "from scipy.stats import zscore\n",
    "\n",
    "results[results.columns] = results.apply(zscore)\n",
    "correlation_matrix = results.transpose().corr().values\n",
    "\n",
    "plt.figure(figsize=(one_half_column/2, one_half_column/2), dpi=300)\n",
    "G=nx.from_numpy_matrix(bct.threshold_absolute(correlation_matrix, 0.3))\n",
    "colours = ['#A9A9A9', '#D3D3D3']\n",
    "\n",
    "pos=nx.spectral_layout(G)\n",
    "\n",
    "for community in np.unique(communities):\n",
    "\n",
    "    nx.draw_networkx_nodes(G,pos,\n",
    "                           nodelist=np.where(communities == community)[0].tolist(),\n",
    "                           node_color=colours[community-1],\n",
    "                           node_size=40,\n",
    "                           alpha=1)\n",
    "\n",
    "\n",
    "nx.draw_networkx_edges(G,pos,width=0.5,alpha=0.5)\n",
    "plt.axis('off');\n",
    "plt.savefig('../results/figures/NKI_spring_layout_QQR.png', dpi=600)"
   ]
  },
  {
   "cell_type": "markdown",
   "metadata": {},
   "source": [
    "Comparing the groups on age"
   ]
  },
  {
   "cell_type": "code",
   "execution_count": 83,
   "metadata": {
    "collapsed": false
   },
   "outputs": [
    {
     "name": "stdout",
     "output_type": "stream",
     "text": [
      "C1: mean=13.568, SE=0.59; C2: mean=14.23, SE=0.470 \n",
      "t-test: t(72)=-0.89, p=0.375\n"
     ]
    }
   ],
   "source": [
    "nki_details['group'] = all_communities\n",
    "mean = nki_details.groupby('group')['Age'].mean().values\n",
    "SE = nki_details.groupby('group')['Age'].apply(sem).values\n",
    "print('C1: mean=%.3f, SE=%.2f; C2: mean=%.2f, SE=%.3f ' % (mean[0], SE[0], mean[1], SE[1]))\n",
    "\n",
    "t,p = ttest_ind(nki_details[nki_details['group'] == 1]['Age'], nki_details[nki_details['group'] == 2]['Age'])\n",
    "df = nki_details.shape[0] - 2\n",
    "print('t-test: t(%i)=%.2f, p=%.3f' % (df, t, p))"
   ]
  },
  {
   "cell_type": "markdown",
   "metadata": {},
   "source": [
    "Comparing the groups on gender"
   ]
  },
  {
   "cell_type": "code",
   "execution_count": 84,
   "metadata": {
    "collapsed": false
   },
   "outputs": [
    {
     "name": "stdout",
     "output_type": "stream",
     "text": [
      "Number of males: 24.0\n",
      "Number of females: 10.0\n",
      "Chi-square test: chi=0.06, p=0.800\n",
      "Number of males: 21.0\n",
      "Number of females: 19.0\n",
      "Chi-square test: chi=0.05, p=0.825\n"
     ]
    }
   ],
   "source": [
    "for group in [1,2]:\n",
    "    gender_counts = nki_details[nki_details['group'] == group]['Gender'].value_counts().values.astype('float')\n",
    "    observed_proportion = gender_counts/len(nki_details[nki_details['group'] == 1])\n",
    "    expected_proportion = nki_details['Gender'].value_counts().values.astype('float')/len(nki_details['Gender'])\n",
    "    chi, p = chisquare(observed_proportion, expected_proportion)\n",
    "\n",
    "    print('Number of males: ' + str(gender_counts[0]))\n",
    "    print('Number of females: ' + str(gender_counts[1]))\n",
    "    print('Chi-square test: chi=%.2f, p=%.3f' % (chi,p))"
   ]
  },
  {
   "cell_type": "markdown",
   "metadata": {},
   "source": [
    "Creating a plot of differences between the data-driven groups in tract values"
   ]
  },
  {
   "cell_type": "code",
   "execution_count": 85,
   "metadata": {
    "collapsed": false,
    "scrolled": true
   },
   "outputs": [
    {
     "data": {
      "image/png": "[encoded data removed]",
      "text/plain": [
       "<matplotlib.figure.Figure at 0x7f755d0b57d0>"
      ]
     },
     "metadata": {},
     "output_type": "display_data"
    }
   ],
   "source": [
    "group_difference_overview(nki_df[nki_df.columns[:-2]], all_communities)\n",
    "#plt.savefig('../results/figures/NKI_grouping.png', dpi=300)"
   ]
  },
  {
   "cell_type": "markdown",
   "metadata": {},
   "source": [
    "p-values for the comparison between the clusters with Bonferroni correction"
   ]
  },
  {
   "cell_type": "code",
   "execution_count": 387,
   "metadata": {
    "collapsed": false,
    "scrolled": true
   },
   "outputs": [
    {
     "name": "stdout",
     "output_type": "stream",
     "text": [
      "Shapiro: C1: p=0.016, C2: p=0.093\n",
      "Shapiro: C1: p=0.024, C2: p=0.018\n",
      "Shapiro: C1: p=0.000, C2: p=0.019\n",
      "Shapiro: C1: p=0.000, C2: p=0.006\n",
      "Shapiro: C1: p=0.021, C2: p=0.081\n",
      "Shapiro: C1: p=0.082, C2: p=0.542\n",
      "Shapiro: C1: p=0.013, C2: p=0.706\n",
      "Shapiro: C1: p=0.066, C2: p=0.636\n",
      "Shapiro: C1: p=0.000, C2: p=0.873\n",
      "Shapiro: C1: p=0.000, C2: p=0.114\n",
      "Shapiro: C1: p=0.001, C2: p=0.013\n",
      "Shapiro: C1: p=0.003, C2: p=0.030\n",
      "Shapiro: C1: p=0.005, C2: p=0.692\n",
      "Shapiro: C1: p=0.005, C2: p=0.521\n",
      "Shapiro: C1: p=0.008, C2: p=0.152\n",
      "Shapiro: C1: p=0.032, C2: p=0.049\n",
      "Shapiro: C1: p=0.004, C2: p=0.021\n",
      "Shapiro: C1: p=0.003, C2: p=0.158\n",
      "Shapiro: C1: p=0.001, C2: p=0.303\n",
      "Shapiro: C1: p=0.031, C2: p=0.033\n"
     ]
    }
   ],
   "source": [
    "pvalues = []\n",
    "\n",
    "for region in nki_df.columns[:-2]:\n",
    "    group1 = nki_df[region][all_communities == 1]\n",
    "    group2 = nki_df[region][all_communities == 2]\n",
    "    print('Shapiro: C1: p=%.3f, C2: p=%.3f' % (shapiro(group1)[1], shapiro(group2)[1]))\n",
    "    pvalues.append(mannwhitneyu(group1, group2)[1])"
   ]
  },
  {
   "cell_type": "code",
   "execution_count": 388,
   "metadata": {
    "collapsed": false
   },
   "outputs": [
    {
     "name": "stdout",
     "output_type": "stream",
     "text": [
      "C1: mean=0.49, SE=0.179, C2: mean=-0.42, SE=0.121\n",
      "Man-Whitney: U=304 p=0.000, p_corr=0.000\n",
      "C1: mean=0.50, SE=0.167, C2: mean=-0.42, SE=0.132\n",
      "Man-Whitney: U=300 p=0.000, p_corr=0.000\n"
     ]
    }
   ],
   "source": [
    "for region in np.where(corrected_pvalues < 0.05)[0]:\n",
    "    group1 = zscore(nki_df[nki_df.columns[region]])[all_communities == 1]\n",
    "    group2 = zscore(nki_df[nki_df.columns[region]])[all_communities == 2]\n",
    "    U,p = mannwhitneyu(group1, group2)\n",
    "    print('C1: mean=%.2f, SE=%.3f, C2: mean=%.2f, SE=%.3f' % (np.mean(group1), sem(group1), np.mean(group2), sem(group2)))\n",
    "    print('Man-Whitney: U=%i p=%.3f, p_corr=%.3f' % (U, p, corrected_pvalues[region]))"
   ]
  },
  {
   "cell_type": "markdown",
   "metadata": {},
   "source": [
    "***Comparing the grouping in the other samples***"
   ]
  },
  {
   "cell_type": "markdown",
   "metadata": {},
   "source": [
    "First, the data from the other samples (CALM, ACE) is grouped according the cut-offs identified in the NKI sample. The colours are assigned according to the figure above, i.e. C1 orange, C2 yellow, and grey for neither. The percentage participants assigned to C1 or C2 in each sample is also plotted below. "
   ]
  },
  {
   "cell_type": "markdown",
   "metadata": {},
   "source": [
    "ACE"
   ]
  },
  {
   "cell_type": "code",
   "execution_count": 323,
   "metadata": {
    "collapsed": false,
    "scrolled": true
   },
   "outputs": [
    {
     "name": "stdout",
     "output_type": "stream",
     "text": [
      "Results of chi-square comparison: chi=14.63, p=0.000\n",
      "Results of chi-square comparison: chi=13.58, p=0.000\n"
     ]
    },
    {
     "data": {
      "image/png": "[encoded data removed]",
      "text/plain": [
       "<matplotlib.figure.Figure at 0x7fb086763d50>"
      ]
     },
     "metadata": {},
     "output_type": "display_data"
    }
   ],
   "source": [
    "ace_grouped = compare_other_groups(ace_df)\n",
    "ace_grouped.to_csv('../data/derived_data/ACE_grouped.csv')\n",
    "plt.savefig('../results/figures/ACE_grouping.png', dpi=300)"
   ]
  },
  {
   "cell_type": "code",
   "execution_count": 324,
   "metadata": {
    "collapsed": false,
    "scrolled": false
   },
   "outputs": [
    {
     "data": {
      "text/plain": [
       "3    51\n",
       "2    19\n",
       "1    16\n",
       "Name: group, dtype: int64"
      ]
     },
     "execution_count": 324,
     "metadata": {},
     "output_type": "execute_result"
    }
   ],
   "source": [
    "ace_grouped[ace_grouped['region'] == 'Cing L']['group'].value_counts()"
   ]
  },
  {
   "cell_type": "code",
   "execution_count": 325,
   "metadata": {
    "collapsed": false
   },
   "outputs": [
    {
     "data": {
      "text/plain": [
       "3    59.302326\n",
       "2    22.093023\n",
       "1    18.604651\n",
       "Name: group, dtype: float64"
      ]
     },
     "execution_count": 325,
     "metadata": {},
     "output_type": "execute_result"
    }
   ],
   "source": [
    "100*ace_grouped[ace_grouped['region'] == 'Cing L']['group'].value_counts()/len(ace_grouped[ace_grouped['region'] == 'Cing L'])"
   ]
  },
  {
   "cell_type": "code",
   "execution_count": 360,
   "metadata": {
    "collapsed": false
   },
   "outputs": [
    {
     "name": "stdout",
     "output_type": "stream",
     "text": [
      "Observed intra-correlation: 64.85\n",
      "Observed inter-correlation: -58.95\n",
      "intra-correlation vs random: 0.001\n",
      "inter-correlation vs random: 0.001\n"
     ]
    }
   ],
   "source": [
    "ace_correlation_matrix = ace_df[ace_df.columns[:-2]].transpose().corr().values\n",
    "ace_communities = pd.read_csv('../data/derived_data/ACE_grouped.csv')\n",
    "ace_communities = ace_communities[ace_communities['region'] == 'Cing L']\n",
    "ace_communities = ace_communities['group'].values\n",
    "test_group_assignment(ace_correlation_matrix, ace_communities)"
   ]
  },
  {
   "cell_type": "markdown",
   "metadata": {},
   "source": [
    "CALM"
   ]
  },
  {
   "cell_type": "code",
   "execution_count": 143,
   "metadata": {
    "collapsed": false,
    "scrolled": true
   },
   "outputs": [
    {
     "name": "stdout",
     "output_type": "stream",
     "text": [
      "Results of chi-square comparison: chi=0.35, p=0.553\n",
      "Results of chi-square comparison: chi=1.77, p=0.184\n"
     ]
    },
    {
     "data": {
      "image/png": "[encoded data removed]",
      "text/plain": [
       "<matplotlib.figure.Figure at 0x7f7231544550>"
      ]
     },
     "metadata": {},
     "output_type": "display_data"
    }
   ],
   "source": [
    "calm_grouped = compare_other_groups(calm_df)\n",
    "calm_grouped.to_csv('../data/derived_data/CALM_grouped.csv')\n",
    "plt.savefig('../results/figures/CALM_grouping.png', dpi=300)"
   ]
  },
  {
   "cell_type": "markdown",
   "metadata": {},
   "source": [
    "**Conclusion**: Most participants in the CALM and ACE sample fall in the range of C1 and C2 defined in the NKI sample."
   ]
  },
  {
   "cell_type": "code",
   "execution_count": 144,
   "metadata": {
    "collapsed": false
   },
   "outputs": [
    {
     "data": {
      "text/plain": [
       "2    95\n",
       "1    87\n",
       "0    11\n",
       "Name: group, dtype: int64"
      ]
     },
     "execution_count": 144,
     "metadata": {},
     "output_type": "execute_result"
    }
   ],
   "source": [
    "calm_grouped[calm_grouped['region'] == 'Cing L']['group'].value_counts()"
   ]
  },
  {
   "cell_type": "code",
   "execution_count": 145,
   "metadata": {
    "collapsed": false,
    "scrolled": true
   },
   "outputs": [
    {
     "data": {
      "text/plain": [
       "2    49.222798\n",
       "1    45.077720\n",
       "0     5.699482\n",
       "Name: group, dtype: float64"
      ]
     },
     "execution_count": 145,
     "metadata": {},
     "output_type": "execute_result"
    }
   ],
   "source": [
    "100*calm_grouped[calm_grouped['region'] == 'Cing L']['group'].value_counts()/len(calm_grouped[calm_grouped['region'] == 'Cing L'])"
   ]
  },
  {
   "cell_type": "code",
   "execution_count": 151,
   "metadata": {
    "collapsed": false
   },
   "outputs": [
    {
     "data": {
      "text/plain": [
       "Power_divergenceResult(statistic=0.005199999999999998, pvalue=0.94251355198275677)"
      ]
     },
     "execution_count": 151,
     "metadata": {},
     "output_type": "execute_result"
    }
   ],
   "source": [
    "chisquare(f_obs=[0.49, 0.45], f_exp=[.5, .5])"
   ]
  },
  {
   "cell_type": "code",
   "execution_count": 361,
   "metadata": {
    "collapsed": false
   },
   "outputs": [
    {
     "name": "stdout",
     "output_type": "stream",
     "text": [
      "Observed intra-correlation: 521.17\n",
      "Observed inter-correlation: 21.10\n",
      "intra-correlation vs random: 0.001\n",
      "inter-correlation vs random: 0.001\n"
     ]
    }
   ],
   "source": [
    "calm_correlation_matrix = calm_df[calm_df.columns[:-2]].transpose().corr().values\n",
    "calm_communities = pd.read_csv('../data/derived_data/CALM_grouped.csv')\n",
    "calm_communities = calm_communities[calm_communities['region'] == 'Cing L']\n",
    "calm_communities = calm_communities['group'].values\n",
    "test_group_assignment(calm_correlation_matrix, calm_communities)"
   ]
  },
  {
   "cell_type": "markdown",
   "metadata": {},
   "source": [
    "### 4.1 Testing the robustness of the community clustering solution"
   ]
  },
  {
   "cell_type": "markdown",
   "metadata": {},
   "source": [
    "... by selecting random subsets of the NKI sample and running the algorithm again"
   ]
  },
  {
   "cell_type": "markdown",
   "metadata": {},
   "source": [
    "Loading the age-regressed NKI values again"
   ]
  },
  {
   "cell_type": "code",
   "execution_count": 513,
   "metadata": {
    "collapsed": true
   },
   "outputs": [],
   "source": [
    "nki_df = pd.read_csv('../results/NKI_age_regressed.csv').set_index('MRI.ID')"
   ]
  },
  {
   "cell_type": "markdown",
   "metadata": {},
   "source": [
    "Same code as above minus the plot:"
   ]
  },
  {
   "cell_type": "code",
   "execution_count": 420,
   "metadata": {
    "collapsed": true
   },
   "outputs": [],
   "source": [
    "def get_community_clustering(results):\n",
    "    results[results.columns] = results.apply(zscore)\n",
    "    correlation_matrix = results.transpose().corr().values\n",
    "    community_affiliation,q = get_consensus_module_assignment(correlation_matrix, 100)\n",
    "\n",
    "    return community_affiliation, q"
   ]
  },
  {
   "cell_type": "markdown",
   "metadata": {},
   "source": [
    "The robustness is tested by selecting random subsets of the data of varying size (between 10% and 100%) and then applying the community clustering to this subset. This is repeated 20 times to estimate the confidence intervals at each size. The outcome of interest is the results of the statistical comparison of cingulum integrity between the groups and the quality index of the grouping."
   ]
  },
  {
   "cell_type": "code",
   "execution_count": 597,
   "metadata": {
    "collapsed": false
   },
   "outputs": [],
   "source": [
    "results = []\n",
    "\n",
    "for fraction in np.arange(0.1, 1.1, 0.1):\n",
    "    number_of_communities = []\n",
    "    quality_indices = []\n",
    "    left_ps = []\n",
    "    right_ps = []\n",
    "    \n",
    "    for i in np.arange(0, 20):\n",
    "        random_subset = np.random.choice(nki_df.index, int(fraction*len(nki_df.index)))\n",
    "        temp_df = nki_df.copy()\n",
    "        temp_df = temp_df[temp_df.index.isin(random_subset)]\n",
    "        communities, q = get_community_clustering(temp_df[temp_df.columns[:-2]])\n",
    "        temp_df['group'] = communities\n",
    "        lm = ols('y ~ C(X)', data=pd.DataFrame({'y':temp_df['Cingulum (cingulate gyrus) L'].values, 'X':temp_df['group'].values})).fit()\n",
    "        left_p = sm.stats.anova_lm(lm, typ=2)['PR(>F)'][0]\n",
    "        lm = ols('y ~ C(X)', data=pd.DataFrame({'y':temp_df['Cingulum (cingulate gyrus) R'].values, 'X':temp_df['group'].values})).fit()\n",
    "        right_p = sm.stats.anova_lm(lm, typ=2)['PR(>F)'][0]\n",
    "        \n",
    "        left_ps.append(left_p)\n",
    "        right_ps.append(right_p)\n",
    "        number_of_communities.append(len(np.unique(communities)))\n",
    "        quality_indices.append(q)\n",
    "\n",
    "    results.append({'fraction': fraction,\n",
    "                    'left_p': np.mean(left_ps),\n",
    "                    'left_p_SE': sem(left_ps),\n",
    "                    'right_p': np.mean(right_ps),\n",
    "                    'right_p_SE': sem(right_ps),\n",
    "                    'communities': np.mean(number_of_communities),\n",
    "                    'communities_SE': sem(number_of_communities),\n",
    "                    'quality_index': np.mean(quality_indices),\n",
    "                    'quality_index_SE': sem(quality_indices)})"
   ]
  },
  {
   "cell_type": "markdown",
   "metadata": {},
   "source": [
    "Summarizing the results in pretty figure"
   ]
  },
  {
   "cell_type": "code",
   "execution_count": 609,
   "metadata": {
    "collapsed": false
   },
   "outputs": [
    {
     "data": {
      "image/png": "[encoded data removed]",
      "text/plain": [
       "<matplotlib.figure.Figure at 0x7f24188fa0d0>"
      ]
     },
     "metadata": {},
     "output_type": "display_data"
    }
   ],
   "source": [
    "sns.set_style(\"ticks\")\n",
    "sns.set_style({'axes.grid': False,\n",
    "               'font.family': [u'serif'],\n",
    "               'font.sans-serif': [u'Computer Modern Unicode'],})\n",
    "\n",
    "temp_df = pd.DataFrame(results)    \n",
    "fig, ax1 = plt.subplots(figsize=(one_half_column/2 + 1, one_half_column/2), dpi=300)\n",
    "ax1.errorbar(x=100*temp_df['fraction'], y=temp_df['left_p'], yerr=temp_df['left_p_SE'], \n",
    "             linewidth=3, marker='o', markersize=10)\n",
    "ax1.errorbar(x=100*temp_df['fraction'], y=temp_df['right_p'], yerr=temp_df['right_p_SE'],\n",
    "             linewidth=3, marker='o', markersize=10)\n",
    "ax1.set_xlabel(r'\\% of sample')\n",
    "ax1.set_ylabel(r'C1 vs C2 [$p$]')\n",
    "plt.ylim([0, 1])\n",
    "plt.legend(['Cing (cingulate gyrus) L', 'Cing (cingulate gyrus) R'])\n",
    "plt.axhline(0.05, 0, 1, color='k', linestyle='dashed')\n",
    "\n",
    "ax2 = ax1.twinx()\n",
    "ax2.errorbar(x=100*temp_df['fraction'], y=temp_df['quality_index'], yerr=temp_df['quality_index_SE'], \n",
    "             color='r', linestyle='dotted', linewidth=3, marker='o', markersize=3)\n",
    "ax2.set_ylabel(r'$q$')\n",
    "plt.ylim([0, 1])\n",
    "\n",
    "ax1.spines['top'].set_visible(False)\n",
    "ax2.spines['top'].set_visible(False)\n",
    "ax1.xaxis.set_ticks_position('bottom')\n",
    "ax1.yaxis.set_ticks_position('left')\n",
    "plt.tight_layout()\n",
    "plt.savefig('../results/figures/NKI_robustness.png', dpi=300)"
   ]
  },
  {
   "cell_type": "markdown",
   "metadata": {},
   "source": [
    "### 5. Comparing the groups on behavioural measures"
   ]
  },
  {
   "cell_type": "markdown",
   "metadata": {},
   "source": [
    "### CALM"
   ]
  },
  {
   "cell_type": "markdown",
   "metadata": {},
   "source": [
    "Loading the data"
   ]
  },
  {
   "cell_type": "code",
   "execution_count": 8,
   "metadata": {
    "collapsed": false
   },
   "outputs": [],
   "source": [
    "calm_grouped = pd.read_csv('../data/derived_data/CALM_grouped.csv')\n",
    "calm_grouped = calm_grouped.set_index('Unnamed: 0')\n",
    "calm_behaviour = pd.read_csv('../data/raw_data/CALM_behavioural_data_Apr17.csv')\n",
    "calm_behaviour = calm_behaviour[calm_behaviour['ID No.'].isin(calm_behaviour['ID No.'].dropna())]\n",
    "calm_behaviour['MRI.ID'] = [get_imaging_ID(str(int(ID)), '../data/raw_data/MRI_ID_match_Aug17.csv') for ID in calm_behaviour['ID No.']]\n",
    "measures = ['Matrix_Reasoning_Raw', 'PPVT_Raw', 'AWMA_Digit_Recall_Raw', 'AWMA_Dot_Matrix_Raw', 'AWMA_Backward_Digit__Raw', 'AWMA_Mr_X__Raw', 'CMS_delayed_raw']\n",
    "calm_behaviour = calm_behaviour[np.hstack([['MRI.ID', 'Age_in_months'], measures])]\n",
    "calm_behaviour = calm_behaviour.dropna()\n",
    "calm_behaviour = calm_behaviour[calm_behaviour['MRI.ID'].isin(calm_grouped.index)]\n",
    "calm_behaviour = calm_behaviour.set_index('MRI.ID')\n",
    "calm_behaviour[np.hstack(['Age_in_months', measures])] = zscore(calm_behaviour[np.hstack(['Age_in_months', measures])])\n",
    "calm_behaviour = pd.merge(calm_behaviour, calm_grouped, left_index=True, right_index=True)"
   ]
  },
  {
   "cell_type": "code",
   "execution_count": 9,
   "metadata": {
    "collapsed": false
   },
   "outputs": [],
   "source": [
    "ps = list()\n",
    "\n",
    "for measure in measures:\n",
    "    group1 = calm_behaviour[calm_behaviour['group'] == 1][measure].values\n",
    "    group2 = calm_behaviour[calm_behaviour['group'] == 2][measure].values\n",
    "    t,p = mannwhitneyu(group1, group2)\n",
    "    ps.append(p)\n",
    "    \n",
    "binarized_results,corrected_ps,_,_ = multipletests(ps, method='bonferroni')"
   ]
  },
  {
   "cell_type": "code",
   "execution_count": 89,
   "metadata": {
    "collapsed": false,
    "scrolled": true
   },
   "outputs": [
    {
     "data": {
      "image/png": "[encoded data removed]",
      "text/plain": [
       "<matplotlib.figure.Figure at 0x7f72314bf290>"
      ]
     },
     "metadata": {},
     "output_type": "display_data"
    }
   ],
   "source": [
    "# Plotting the distribution of values\n",
    "sns.set_style(\"ticks\")\n",
    "sns.set_style({'axes.grid': False,\n",
    "           'font.family': [u'serif'],\n",
    "           'font.sans-serif': [u'Computer Modern Unicode'],})\n",
    "style = [['#D3D3D3', 'x', 'dashed'], ['#FFD700', 'o', 'solid'], ['#FF8C00', '^', 'dotted']]\n",
    "plt.figure(figsize=(90*mm2inches, 60*mm2inches), dpi=600)\n",
    "    \n",
    "for group in [2,1,0]:\n",
    "    x = np.arange(0,len(measures))\n",
    "    y = calm_behaviour[calm_behaviour['group'] == group][measures].mean().values\n",
    "    yerr = calm_behaviour[calm_behaviour['group'] == group][measures].apply(sem).values\n",
    "    plt.errorbar(x, y, yerr, color=style[group][0], marker=style[group][1], linestyle=style[group][2])\n",
    "        \n",
    "sns.despine(offset=8, trim=True)\n",
    "plt.ylabel('z-score')    \n",
    "#plt.legend(['C' + str(community) for community in [1,2,0]], frameon=True, loc='best')\n",
    "plt.xlim([-0.5,len(measures)-0.5])\n",
    "plt.xticks(range(0,len(measures)))\n",
    "ax = plt.gca()\n",
    "ax.set_xticklabels('', rotation=90);\n",
    "ax.set_axis_bgcolor('white')\n",
    "ax.spines['top'].set_visible(False)\n",
    "ax.spines['right'].set_visible(False)\n",
    "ax.xaxis.set_ticks_position('bottom')\n",
    "ax.yaxis.set_ticks_position('left')\n",
    "ax.set_xticklabels(['MR','VO','DR','DM','BR','MX','CM'], rotation=90);\n",
    "plt.tight_layout()\n",
    "plt.savefig('../results/figures/CALM_group_comparison.png', dpi=600)"
   ]
  },
  {
   "cell_type": "markdown",
   "metadata": {},
   "source": [
    "QQR plot"
   ]
  },
  {
   "cell_type": "code",
   "execution_count": 161,
   "metadata": {
    "collapsed": false,
    "scrolled": true
   },
   "outputs": [],
   "source": [
    "calm_grouped = pd.read_csv('../data/derived_data/CALM_grouped.csv')\n",
    "calm_grouped = calm_grouped[calm_grouped['group'].isin([1, 2])]\n",
    "calm_grouped['group'] = pd.Categorical(calm_grouped['group'], categories=[1,2])\n",
    "calm_grouped = calm_grouped[calm_grouped['region'] == 'Cing L']\n",
    "calm_grouped['value'] = zscore(calm_grouped['value'])"
   ]
  },
  {
   "cell_type": "code",
   "execution_count": 168,
   "metadata": {
    "collapsed": false
   },
   "outputs": [
    {
     "data": {
      "image/png": "[encoded data removed]",
      "text/plain": [
       "<matplotlib.figure.Figure at 0x7fb0bd609f10>"
      ]
     },
     "metadata": {},
     "output_type": "display_data"
    }
   ],
   "source": [
    "sns.set_style(\"ticks\")\n",
    "sns.set_style({'axes.grid': False,\n",
    "           'font.family': [u'sans-serif'],\n",
    "           'font.sans-serif': [u'Verdana'],})\n",
    "mypal = sns.color_palette(['#A9A9A9', '#D3D3D3'])\n",
    "\n",
    "plt.figure(figsize=(35*mm2inches, 30*mm2inches), dpi=600)\n",
    "sns.barplot(x='group', y='value', palette=mypal, data=calm_grouped)\n",
    "sns.despine(offset=8, trim=True)\n",
    "ax = plt.gca()\n",
    "ax.set_yticks(np.linspace(-1, 1, 3))\n",
    "ax.set_xticklabels(['C1', 'C2'])\n",
    "plt.xlabel(' ')\n",
    "plt.ylabel(' ')\n",
    "plt.tight_layout()\n",
    "plt.savefig('./QQR_plot.png', dpi=600)"
   ]
  },
  {
   "cell_type": "code",
   "execution_count": 81,
   "metadata": {
    "collapsed": false
   },
   "outputs": [
    {
     "data": {
      "image/png": "[encoded data removed]",
      "text/plain": [
       "<matplotlib.figure.Figure at 0x7fb0bd1eba10>"
      ]
     },
     "metadata": {},
     "output_type": "display_data"
    }
   ],
   "source": [
    "# Plotting the distribution of values\n",
    "sns.set_style(\"ticks\")\n",
    "sns.set_style({'axes.grid': False,\n",
    "           'font.family': [u'serif'],\n",
    "           'font.sans-serif': [u'Computer Modern Unicode'],})\n",
    "style = [['#A9A9A9', 'x', 'dashed'], ['#A9A9A9', 'o', 'solid'], ['#D3D3D3', '^', 'solid']]\n",
    "plt.figure(figsize=(50*mm2inches, 40*mm2inches), dpi=600)\n",
    "    \n",
    "for group in [2,1,0]:\n",
    "    x = np.arange(0,len(measures))\n",
    "    y = calm_behaviour[calm_behaviour['group'] == group][measures].mean().values\n",
    "    yerr = calm_behaviour[calm_behaviour['group'] == group][measures].apply(sem).values\n",
    "    plt.errorbar(x, y, yerr, color=style[group][0], marker=style[group][1], linestyle=style[group][2])\n",
    "        \n",
    "sns.despine(offset=8, trim=True)\n",
    "plt.ylabel(' ')    \n",
    "plt.xlim([-0.5,len(measures)-0.5])\n",
    "plt.xticks(range(0,len(measures)))\n",
    "ax = plt.gca()\n",
    "ax.set_xticklabels('', rotation=90);\n",
    "ax.set_axis_bgcolor('white')\n",
    "ax.spines['top'].set_visible(False)\n",
    "ax.spines['right'].set_visible(False)\n",
    "ax.xaxis.set_ticks_position('bottom')\n",
    "ax.yaxis.set_ticks_position('left')\n",
    "ax.set_yticks(np.linspace(-0.4, 0.4, 5))\n",
    "ax.set_xticklabels(['MR','VO','DR','DM','BR','MX','CM'], rotation=90);\n",
    "plt.tight_layout()\n",
    "plt.savefig('../results/figures/CALM_group_comparison_QQR.png', dpi=600)"
   ]
  },
  {
   "cell_type": "markdown",
   "metadata": {},
   "source": [
    "### ACE "
   ]
  },
  {
   "cell_type": "code",
   "execution_count": 92,
   "metadata": {
    "collapsed": false
   },
   "outputs": [],
   "source": [
    "ace_grouped = pd.read_csv('../data/derived_data/ACE_grouped.csv')\n",
    "ace_grouped = ace_grouped.set_index('Unnamed: 0')\n",
    "ace_behaviour = pd.read_csv('../data/raw_data/ACE_behavioural_data.csv')\n",
    "measures = ['WASI_Vocab', 'WASI_Mat', 'WM_DR_raw', 'WM_DM_raw', 'WM_BD_raw', 'WM_MX_raw']\n",
    "ace_behaviour = ace_behaviour[np.hstack([['MRI.ID'], measures])]\n",
    "ace_behaviour = ace_behaviour.set_index('MRI.ID')\n",
    "ace_behaviour = ace_behaviour.dropna()\n",
    "ace_behaviour[measures] = ace_behaviour[measures].apply(zscore)\n",
    "ace_behaviour = pd.merge(ace_grouped, ace_behaviour, left_index=True, right_index=True)\n",
    "ace_demographics = pd.read_csv('../data/raw_data/ACE_demographic_data.csv')\n",
    "ace_demographics = ace_demographics.set_index('MRI.ID')\n",
    "ace_behaviour = pd.merge(ace_behaviour, ace_demographics, left_index=True, right_index=True)"
   ]
  },
  {
   "cell_type": "code",
   "execution_count": 93,
   "metadata": {
    "collapsed": false
   },
   "outputs": [],
   "source": [
    "ps = list()\n",
    "\n",
    "for measure in measures:\n",
    "    group1 = ace_behaviour[ace_behaviour['group'] == 1][measure].values\n",
    "    group2 = ace_behaviour[ace_behaviour['group'] == 2][measure].values\n",
    "    t,p = mannwhitneyu(group1, group2)\n",
    "    ps.append(p)\n",
    "    \n",
    "binarized_results,corrected_ps,_,_ = multipletests(ps, method='bonferroni')"
   ]
  },
  {
   "cell_type": "code",
   "execution_count": 99,
   "metadata": {
    "collapsed": false
   },
   "outputs": [
    {
     "data": {
      "image/png": "[encoded data removed]",
      "text/plain": [
       "<matplotlib.figure.Figure at 0x7f72344bb550>"
      ]
     },
     "metadata": {},
     "output_type": "display_data"
    }
   ],
   "source": [
    "# Plotting the distribution of values\n",
    "sns.set_style(\"ticks\")\n",
    "sns.set_style({'axes.grid': False,\n",
    "           'font.family': [u'serif'],\n",
    "           'font.sans-serif': [u'Computer Modern Unicode'],})\n",
    "style = [['#D3D3D3', 'x', 'dashed'], ['#FFD700', 'o', 'solid'], ['#FF8C00', '^', 'dotted']]\n",
    "plt.figure(figsize=(90*mm2inches, 60*mm2inches), dpi=600)\n",
    "    \n",
    "for group in [2,1,0]:\n",
    "    x = np.arange(0,len(measures))\n",
    "    y = ace_behaviour[ace_behaviour['group'] == group][measures].mean().values\n",
    "    yerr = ace_behaviour[ace_behaviour['group'] == group][measures].apply(sem).values\n",
    "    plt.errorbar(x, y, yerr, color=style[group][0], marker=style[group][1], linestyle=style[group][2])\n",
    "        \n",
    "sns.despine(offset=8, trim=True)\n",
    "\n",
    "plt.ylabel('z-score')    \n",
    "plt.legend(['C' + str(community) for community in [1,2,0]], frameon=True, loc='best')\n",
    "plt.xlim([-0.5,len(measures)+1-0.5])\n",
    "plt.xticks(range(0,len(measures)+1))\n",
    "ax = plt.gca()\n",
    "ax.set_xticklabels('', rotation=90);\n",
    "ax.set_axis_bgcolor('white')\n",
    "ax.spines['top'].set_visible(False)\n",
    "ax.spines['right'].set_visible(False)\n",
    "ax.xaxis.set_ticks_position('bottom')\n",
    "ax.yaxis.set_ticks_position('left')\n",
    "ax.set_xticklabels(['MR','VO','DR','DM','BR','MX','CM'], rotation=90);\n",
    "plt.tight_layout()\n",
    "plt.savefig('../results/figures/ACE_group_comparison.png', dpi=600)"
   ]
  },
  {
   "cell_type": "code",
   "execution_count": 101,
   "metadata": {
    "collapsed": false
   },
   "outputs": [
    {
     "data": {
      "text/plain": [
       "array([ 0.   ,  0.005,  0.007,  0.007,  0.001,  0.207])"
      ]
     },
     "execution_count": 101,
     "metadata": {},
     "output_type": "execute_result"
    }
   ],
   "source": [
    "np.asarray(ps).round(3)"
   ]
  },
  {
   "cell_type": "code",
   "execution_count": 95,
   "metadata": {
    "collapsed": false,
    "scrolled": true
   },
   "outputs": [
    {
     "data": {
      "text/plain": [
       "array([ 0.   ,  0.028,  0.043,  0.044,  0.003,  1.   ])"
      ]
     },
     "execution_count": 95,
     "metadata": {},
     "output_type": "execute_result"
    }
   ],
   "source": [
    "corrected_ps.round(3)"
   ]
  },
  {
   "cell_type": "markdown",
   "metadata": {},
   "source": [
    "#### Characterising the sample with age-normed scores"
   ]
  },
  {
   "cell_type": "code",
   "execution_count": 113,
   "metadata": {
    "collapsed": true
   },
   "outputs": [],
   "source": [
    "calm_grouped = pd.read_csv('../data/derived_data/CALM_grouped.csv')\n",
    "calm_grouped = calm_grouped.set_index('Unnamed: 0')\n",
    "calm_behaviour = pd.read_csv('../data/raw_data/CALM_behavioural_data_Apr17.csv')\n",
    "calm_behaviour = calm_behaviour[calm_behaviour['ID No.'].isin(calm_behaviour['ID No.'].dropna())]\n",
    "calm_behaviour['MRI.ID'] = [get_imaging_ID(str(int(ID)), '../data/raw_data/MRI_ID_match_Aug17.csv') for ID in calm_behaviour['ID No.']]\n",
    "measures = ['Matrix_Reasoning_T', 'PPVT_Std', 'AWMA_Digit_Recall_Standard', 'AWMA_Dot_Matrix_Standard', 'AWMA_Backward_Digit__Standard', 'AWMA_Mr_X__Standard', 'CMS_delayed_Scaled']\n",
    "calm_behaviour = calm_behaviour[np.hstack([['MRI.ID', 'Age_in_months'], measures])]\n",
    "calm_behaviour = calm_behaviour.dropna()\n",
    "calm_behaviour = calm_behaviour[calm_behaviour['MRI.ID'].isin(calm_grouped.index)]\n",
    "calm_behaviour = calm_behaviour.set_index('MRI.ID')\n",
    "calm_behaviour = pd.merge(calm_behaviour, calm_grouped, left_index=True, right_index=True)"
   ]
  },
  {
   "cell_type": "markdown",
   "metadata": {},
   "source": [
    "Transforming all measures to the same scale by zscoring them to the mean and standard deviation of the normative sample"
   ]
  },
  {
   "cell_type": "code",
   "execution_count": 117,
   "metadata": {
    "collapsed": false
   },
   "outputs": [],
   "source": [
    "calm_behaviour['Matrix_Reasoning_T'] = (calm_behaviour['Matrix_Reasoning_T']-50)/10\n",
    "for measure in ['PPVT_Std', 'AWMA_Digit_Recall_Standard', 'AWMA_Dot_Matrix_Standard', 'AWMA_Backward_Digit__Standard', 'AWMA_Mr_X__Standard']:\n",
    "    calm_behaviour[measure] = (calm_behaviour[measure]-100)/15\n",
    "calm_behaviour['CMS_delayed_Scaled'] = (calm_behaviour['CMS_delayed_Scaled']-10)/2"
   ]
  },
  {
   "cell_type": "markdown",
   "metadata": {},
   "source": [
    "Age distribution plot"
   ]
  },
  {
   "cell_type": "code",
   "execution_count": 199,
   "metadata": {
    "collapsed": false,
    "scrolled": false
   },
   "outputs": [
    {
     "data": {
      "image/png": "[encoded data removed]",
      "text/plain": [
       "<matplotlib.figure.Figure at 0x7f60980ac890>"
      ]
     },
     "metadata": {},
     "output_type": "display_data"
    }
   ],
   "source": [
    "sns.set_style(\"ticks\")\n",
    "sns.set_style({'axes.grid': False,\n",
    "               'font.family': [u'serif'],\n",
    "               'font.size': 9,\n",
    "               'font.sans-serif': [u'Computer Modern Unicode'],})\n",
    "fig, ax1 = plt.subplots(figsize=(one_half_column, one_half_column), dpi=300)\n",
    "counter = 1\n",
    "\n",
    "for measure in measures:\n",
    "    plt.subplot(3, 3, counter)\n",
    "    sns.distplot(calm_behaviour[measure].values, bins=15, color='firebrick')\n",
    "    plt.axvline(0, color='k', linewidth=1)\n",
    "    plt.axvline(1, color='k', linewidth=1, linestyle='dashed')\n",
    "    plt.axvline(-1, color='k', linewidth=1, linestyle='dashed')\n",
    "    plt.title(' '.join(measure.split('_')[:-1]), fontsize=9)\n",
    "    ax = plt.gca()\n",
    "    plt.ylabel('count')\n",
    "    plt.xlim([-4, 4])\n",
    "    plt.ylim([0, 0.6])\n",
    "    ax.set_axis_bgcolor('white')\n",
    "    ax.set_xticks(np.arange(-4, 6, 2))\n",
    "    ax.set_yticks(np.arange(0, 0.75, 0.25))\n",
    "    if counter not in [1,4,7]:\n",
    "        ax.yaxis.set_visible(False)\n",
    "        ax.set_yticks(np.arange(0, 0.5, 10))\n",
    "    sns.despine(offset=8, trim=True)\n",
    "    plt.tight_layout()\n",
    "    counter += 1\n",
    "    \n",
    "plt.subplot(3, 3, 8)\n",
    "sns.distplot(calm_behaviour['Age_in_months'].values, kde=False, bins=15, color='firebrick')\n",
    "sns.despine(offset=8, trim=True)\n",
    "plt.title('Age')\n",
    "plt.xlabel('months')\n",
    "plt.ylabel('count')\n",
    "plt.tight_layout()\n",
    "plt.gca().set_xticks(np.arange(60, 240, 40))\n",
    "plt.savefig('../results/figures/cognitive_distributions.png', dpi=300)"
   ]
  },
  {
   "cell_type": "markdown",
   "metadata": {
    "collapsed": true
   },
   "source": [
    "### Testing the grouping"
   ]
  },
  {
   "cell_type": "code",
   "execution_count": 233,
   "metadata": {
    "collapsed": false
   },
   "outputs": [],
   "source": [
    "import bct\n",
    "\n",
    "nki_df = pd.read_csv('../results/NKI_age_regressed.csv').set_index('MRI.ID')\n",
    "matrix, communities1, q1 = get_community_clustering(nki_df[nki_df.columns[:-2]])\n",
    "communities2, q2 = bct.modularity_finetune_und_sign(nki_df[nki_df.columns[:-2]].transpose().corr().values, qtype='neg')"
   ]
  },
  {
   "cell_type": "code",
   "execution_count": null,
   "metadata": {
    "collapsed": true
   },
   "outputs": [],
   "source": []
  }
 ],
 "metadata": {
  "anaconda-cloud": {},
  "kernelspec": {
   "display_name": "Python 2",
   "language": "python",
   "name": "python2"
  },
  "language_info": {
   "codemirror_mode": {
    "name": "ipython",
    "version": 2
   },
   "file_extension": ".py",
   "mimetype": "text/x-python",
   "name": "python",
   "nbconvert_exporter": "python",
   "pygments_lexer": "ipython2",
   "version": "2.7.12"
  },
  "widgets": {
   "state": {
    "b8edc66a5380404abf8694d9c9392f65": {
     "views": [
      {
       "cell_index": 85
      }
     ]
    }
   },
   "version": "1.2.0"
  }
 },
 "nbformat": 4,
 "nbformat_minor": 0
}
