{
 "cells": [
  {
   "cell_type": "code",
   "execution_count": 1,
   "metadata": {
    "collapsed": false
   },
   "outputs": [
    {
     "name": "stdout",
     "output_type": "stream",
     "text": [
      "Populating the interactive namespace from numpy and matplotlib\n"
     ]
    }
   ],
   "source": [
    "%pylab inline"
   ]
  },
  {
   "cell_type": "code",
   "execution_count": 41,
   "metadata": {
    "collapsed": false
   },
   "outputs": [],
   "source": [
    "from CALM_utils import get_imaging_ID\n",
    "import itertools\n",
    "import matplotlib.pyplot as plt\n",
    "from matplotlib.colors import LinearSegmentedColormap\n",
    "import numpy as np\n",
    "import os\n",
    "import pandas as pd\n",
    "from scipy.stats import pearsonr, sem, ttest_ind, zscore\n",
    "import seaborn as sns\n",
    "from statsmodels.sandbox.stats.multicomp import multipletests\n",
    "from statsmodels.formula.api import ols"
   ]
  },
  {
   "cell_type": "code",
   "execution_count": 3,
   "metadata": {
    "collapsed": true
   },
   "outputs": [],
   "source": [
    "from matplotlib import rcParams  \n",
    "rcParams['font.family'] = 'serif'  \n",
    "rcParams['font.serif'] = ['Computer Modern Unicode']  \n",
    "rcParams['text.usetex'] = True  \n",
    "rcParams['axes.labelsize'] = 9  \n",
    "rcParams['xtick.labelsize'] = 9  \n",
    "rcParams['ytick.labelsize'] = 9  \n",
    "rcParams['legend.fontsize'] = 9  \n",
    "mm2inches = 0.039371\n",
    "single_column = 90*mm2inches\n",
    "double_column = 190*mm2inches\n",
    "one_half_column = 140*mm2inches"
   ]
  },
  {
   "cell_type": "code",
   "execution_count": 188,
   "metadata": {
    "collapsed": false
   },
   "outputs": [],
   "source": [
    "def get_consensus_module_assignment(network, iterations):\n",
    "    #================================\n",
    "    # Obtain the consensus module structure\n",
    "    #================================\n",
    "    \"\"\"\n",
    "    inputs:\n",
    "    adjacency_matrix: adjacency_matrix\n",
    "    gamma: gamma value\n",
    "\n",
    "    outputs:\n",
    "    vector of module assignment for each node\n",
    "    \"\"\"\n",
    "    import numpy as np\n",
    "    consensus_matrices = list()\n",
    "\n",
    "    for i in range(0,iterations):\n",
    "        consensus_matrix,modules,q = get_consensus_matrix(network)\n",
    "        consensus_matrices.append(consensus_matrix)\n",
    "\n",
    "    mean_consensus_matrix = np.mean(consensus_matrices,axis=0)\n",
    "\n",
    "    consensus_matrix,modules,q = get_consensus_matrix(mean_consensus_matrix)\n",
    "    consensus_matrix2,modules,q = get_consensus_matrix(mean_consensus_matrix)\n",
    "\n",
    "    while abs(np.sum(consensus_matrix - consensus_matrix2)) != 0:\n",
    "        consensus_matrix,modules,q = get_consensus_matrix(mean_consensus_matrix)\n",
    "        consensus_matrix2,modules,q = get_consensus_matrix(mean_consensus_matrix)\n",
    "\n",
    "    return (modules, q)\n",
    "\n",
    "def get_consensus_matrix(network):\n",
    "    import bct\n",
    "    import numpy as np\n",
    "    modules,q = bct.modularity_louvain_und_sign(network, qtype='smp')\n",
    "    module_matrix = np.repeat(modules,repeats=network.shape[0])\n",
    "    module_matrix = np.reshape(module_matrix,newshape=network.shape)\n",
    "    consensus_matrix = module_matrix == module_matrix.transpose()\n",
    "    return (consensus_matrix.astype('float'), modules, q)\n",
    "\n",
    "def plot_community_matrix(network, community_affiliation):\n",
    "    import matplotlib.pyplot as plt\n",
    "    from mpl_toolkits.axes_grid1 import make_axes_locatable\n",
    "\n",
    "    sorting_array = sorted(range(len(community_affiliation)), key=lambda k: community_affiliation[k])\n",
    "    sorted_network = network[sorting_array, :]\n",
    "    sorted_network = sorted_network[:, sorting_array]\n",
    "    plt.figure(figsize=(one_half_column/2, one_half_column/2), dpi=300)\n",
    "    im = plt.imshow(sorted_network, \n",
    "               cmap='jet',\n",
    "               interpolation='none',\n",
    "               vmin=-1, vmax=1)\n",
    "    ax = plt.gca()\n",
    "    ax.grid('off')\n",
    "    divider = make_axes_locatable(ax)\n",
    "    cax = divider.append_axes(\"right\", size=\"5%\", pad=0.05)\n",
    "    cb = plt.colorbar(im, cax=cax)\n",
    "    cb.set_label('Pearson correlation coefficient R')\n",
    "    cb.ax.yaxis.set_label_position('right')\n",
    "    plt.tight_layout(pad=0, w_pad=1, h_pad=0)\n",
    "    \n",
    "def load_data(subject, measure, parcellation):\n",
    "    \n",
    "    if parcellation == 'HCP':\n",
    "        parcellation_name = ['HCP.fsaverage.aparc_source_subject_fsaverage_copy', 'HCP.fsaverage.aparc']\n",
    "    elif parcellation == '500':\n",
    "        parcellation_name = ['500.aparc_source_subject_fsaverageSubP', '500.aparc']\n",
    "    elif parcellation == 'a2009s':\n",
    "        parcellation_name = ['aparc.a2009s_source_subject_fsaverage_copy', 'aparc.a2009s']\n",
    "    elif parcellation == 'Yeo':\n",
    "        parcellation_name = ['Yeo2011_7Networks_N1000_source_subject_fsaverageSubP', 'Yeo2011_7Networks_N1000']\n",
    "    else:\n",
    "        print('Must be one of HCP, a2009s, 500, Yeo')\n",
    "        \n",
    "    filename = '/imaging/jb07/CALM/Morphological_Covariance/morphological_covariance_pipeline/_subject_id_' + subject + '/_source_annot_file_' + parcellation_name[0] + '/'\n",
    "\n",
    "    if measure in ['FA', 'MD', 'AD', 'RD']:\n",
    "        filename = filename + measure + '_atlas_values/' + subject + '_' + measure + '_flirt_' + measure + '_' + parcellation_name[1] + '_cortical_expanded_consecutive.csv'\n",
    "        if os.path.isfile(filename):\n",
    "            data = pd.read_csv(filename)['value'].values\n",
    "        else:\n",
    "            return []\n",
    "    \n",
    "    if measure in ['CurvInd', 'FoldInd', 'GausCurv', 'GrayVol', 'MeanCurv', 'SurfArea', 'ThickAvg', 'ThickStd']:\n",
    "        filename = filename + '/freesurfer_values/' + parcellation_name[1] + '_' + measure + '.csv'\n",
    "        if os.path.isfile(filename):\n",
    "            data = pd.read_csv(filename)['value'].values\n",
    "        else:\n",
    "            return []\n",
    "    \n",
    "    data = np.asarray(data)\n",
    "    \n",
    "    return data\n",
    "\n",
    "def plot_cognitive_differences(analysis_df, binarized_results):\n",
    "    sns.set_style(\"whitegrid\")\n",
    "    sns.set_style({'axes.grid': False,\n",
    "                       'font.family': [u'serif'],\n",
    "                       'font.sans-serif': [u'Computer Modern Unicode'],})\n",
    "    colours = ['turquoise', 'gold', 'firebrick', 'limegreen', 'darkorange', 'deepskyblue']\n",
    "    labels = ['Spelling', 'Reading', 'Maths', 'MatrixReasoning', 'Vocabulary', 'DigitRecall', 'DotMatrix', 'BackwardDigit', 'MrX', 'StoryRecall']\n",
    "\n",
    "    plt.figure(figsize=(one_half_column, one_half_column), dpi=600)\n",
    "\n",
    "    plt.subplot(2,1,1)\n",
    "\n",
    "    for group in np.unique(analysis_df['groups']):\n",
    "        mean = analysis_df[analysis_df['groups'] == group].mean()[measures]\n",
    "        SE = analysis_df[analysis_df['groups'] == group].mean()[measures]\n",
    "        plt.errorbar(x=np.arange(0,len(measures)),\n",
    "                     y=mean, yerr=2*SE, \n",
    "                     color=colours[group-1])\n",
    "\n",
    "    plt.xlim([-0.5,len(mean)-0.5])\n",
    "    plt.xticks(range(0,len(mean)))\n",
    "    plt.legend(['C' + str(community) for community in sorted(np.unique(analysis_df['groups']))], frameon=True, loc='best')\n",
    "    plt.ylabel('z-score')\n",
    "    ax = plt.gca()\n",
    "    ax.set_xticklabels('', rotation=90);\n",
    "    ax.spines['top'].set_visible(False)\n",
    "    ax.spines['right'].set_visible(False)\n",
    "    ax.spines['bottom'].set_visible(False)\n",
    "    ax.xaxis.set_ticks_position('bottom')\n",
    "    ax.yaxis.set_ticks_position('left')\n",
    "\n",
    "    plt.subplot(2,1,2)\n",
    "    combinations = list(itertools.combinations(np.unique(analysis_df['groups']), 2))\n",
    "\n",
    "    new_style = {'grid': False}\n",
    "    matplotlib.rc('axes', **new_style)\n",
    "    plt.imshow(binarized_results, \n",
    "              interpolation = 'none', \n",
    "              cmap=LinearSegmentedColormap.from_list('mycmap', [(0, 'lightgray'), (1, 'orangered')]))\n",
    "    plt.yticks(np.arange(0,len(combinations)))\n",
    "    plt.xticks(np.arange(0, len(mean)))\n",
    "    plt.ylabel('contrast results')\n",
    "\n",
    "    ax = plt.gca()\n",
    "    ax.set_yticklabels([str(combination[0]) + ' v ' + str(combination[1]) for combination in combinations], rotation=0);\n",
    "    ax.set_xticklabels(labels, rotation=90);\n",
    "    plt.tight_layout(pad=0, w_pad=0, h_pad=0)\n",
    "    plt.show()\n",
    "    \n",
    "def get_quality_index(subject_list, brain_measure, parcellation):\n",
    "    data = get_data_from_all_subjects(subject_list, brain_measure, parcellation)\n",
    "    correlation_matrix = data.transpose().corr().values\n",
    "    community_affiliation,q = get_consensus_module_assignment(correlation_matrix, 100)\n",
    "    data.columns = ['region_' + str(column) for column in data.columns]\n",
    "    data['groups'] = community_affiliation\n",
    "    \n",
    "    return (data, q)"
   ]
  },
  {
   "cell_type": "code",
   "execution_count": 226,
   "metadata": {
    "collapsed": false
   },
   "outputs": [],
   "source": [
    "brain_measure = 'FA'\n",
    "parcellation = 'Yeo'"
   ]
  },
  {
   "cell_type": "markdown",
   "metadata": {},
   "source": [
    "Loading the behavioural data"
   ]
  },
  {
   "cell_type": "code",
   "execution_count": 227,
   "metadata": {
    "collapsed": false
   },
   "outputs": [],
   "source": [
    "behavioural_df = pd.read_csv('../data/raw_data/CALM_behavioural_data_Apr17.csv')\n",
    "behavioural_df = behavioural_df[behavioural_df['ID No.'].isin(behavioural_df['ID No.'].dropna())]\n",
    "behavioural_df['MRI.ID'] = [get_imaging_ID(str(int(ID))) for ID in behavioural_df['ID No.']]\n",
    "measures = ['WIAT_Spelling_Raw', 'WIAT_Reading_Raw', 'WIAT_Numerical_raw', 'Matrix_Reasoning_Raw', 'PPVT_Raw', 'AWMA_Digit_Recall_Raw', 'AWMA_Dot_Matrix_Raw', 'AWMA_Backward_Digit__Raw', 'AWMA_Mr_X__Raw', 'CMS_delayed_raw']\n",
    "analysis_df = behavioural_df[np.hstack([['MRI.ID', 'Age_in_months', 'Gender(1=male)'], measures])]\n",
    "analysis_df = analysis_df.dropna()"
   ]
  },
  {
   "cell_type": "markdown",
   "metadata": {},
   "source": [
    "Loading the imaging data"
   ]
  },
  {
   "cell_type": "code",
   "execution_count": 228,
   "metadata": {
    "collapsed": false
   },
   "outputs": [],
   "source": [
    "subject_list = np.asarray([subject for subject in analysis_df['MRI.ID'].values if len(load_data(subject, brain_measure, parcellation))>0])\n",
    "imaging_data, q = get_quality_index(subject_list, brain_measure, parcellation)"
   ]
  },
  {
   "cell_type": "markdown",
   "metadata": {},
   "source": [
    "Making sure that the participants are consistent across the behavioural and imaging data"
   ]
  },
  {
   "cell_type": "code",
   "execution_count": 229,
   "metadata": {
    "collapsed": true
   },
   "outputs": [],
   "source": [
    "analysis_df = analysis_df[analysis_df['MRI.ID'].isin(subject_list)]\n",
    "analysis_df = pd.merge(analysis_df, imaging_data, left_on='MRI.ID', right_index=True)"
   ]
  },
  {
   "cell_type": "markdown",
   "metadata": {},
   "source": [
    "Regressing the effect of age from the behavioural and the imaging data"
   ]
  },
  {
   "cell_type": "code",
   "execution_count": 230,
   "metadata": {
    "collapsed": true
   },
   "outputs": [],
   "source": [
    "for measure in measures:\n",
    "    analysis_df[measure] = ols(measure + ' ~ Age_in_months', data=analysis_df).fit().resid"
   ]
  },
  {
   "cell_type": "code",
   "execution_count": 231,
   "metadata": {
    "collapsed": false,
    "scrolled": true
   },
   "outputs": [],
   "source": [
    "regions = imaging_data.columns[imaging_data.columns != 'groups']\n",
    "for region in regions:\n",
    "    analysis_df[region] = ols(region + ' ~ Age_in_months', data=analysis_df).fit().resid"
   ]
  },
  {
   "cell_type": "markdown",
   "metadata": {},
   "source": [
    "Scaling the behavioural data to 0 mean and unit variance"
   ]
  },
  {
   "cell_type": "code",
   "execution_count": 232,
   "metadata": {
    "collapsed": false
   },
   "outputs": [],
   "source": [
    "analysis_df[measures] = analysis_df[measures].apply(zscore)\n",
    "analysis_df[regions] = analysis_df[regions].apply(zscore)"
   ]
  },
  {
   "cell_type": "markdown",
   "metadata": {},
   "source": [
    "Comparing the groups on the behavioural measures"
   ]
  },
  {
   "cell_type": "code",
   "execution_count": 233,
   "metadata": {
    "collapsed": false
   },
   "outputs": [],
   "source": [
    "results = pd.DataFrame()\n",
    "group_comparisons = list(itertools.combinations(np.unique(analysis_df['groups']), 2))\n",
    "\n",
    "for measure in measures:\n",
    "    for group_comparison in group_comparisons:\n",
    "        group1 = analysis_df[analysis_df['groups'] == group_comparison[0]][measure].values\n",
    "        group2 = analysis_df[analysis_df['groups'] == group_comparison[1]][measure].values\n",
    "        t,p = ttest_ind(group1, group2)\n",
    "        results.set_value(measure, str(group_comparison), p)\n",
    "\n",
    "rej, p, alphaSidak, alphaBonferroni = multipletests(results.values.flatten(), alpha=0.05, method='bonferroni')\n",
    "binarized_results = 1*(results.values < alphaBonferroni).transpose()"
   ]
  },
  {
   "cell_type": "code",
   "execution_count": 234,
   "metadata": {
    "collapsed": false
   },
   "outputs": [
    {
     "data": {
      "image/png": "[encoded data removed]",
      "text/plain": [
       "<matplotlib.figure.Figure at 0x7f68e7696b90>"
      ]
     },
     "metadata": {},
     "output_type": "display_data"
    }
   ],
   "source": [
    "plot_cognitive_differences(analysis_df, binarized_results)"
   ]
  },
  {
   "cell_type": "markdown",
   "metadata": {},
   "source": [
    "## Connectome node degree"
   ]
  },
  {
   "cell_type": "code",
   "execution_count": 235,
   "metadata": {
    "collapsed": false
   },
   "outputs": [
    {
     "ename": "TypeError",
     "evalue": "cannot concatenate 'str' and 'float' objects",
     "output_type": "error",
     "traceback": [
      "\u001b[1;31m---------------------------------------------------------------------------\u001b[0m",
      "\u001b[1;31mTypeError\u001b[0m                                 Traceback (most recent call last)",
      "\u001b[1;32m<ipython-input-235-4f7e85e76acc>\u001b[0m in \u001b[0;36m<module>\u001b[1;34m()\u001b[0m\n\u001b[0;32m      2\u001b[0m \u001b[0min_folder\u001b[0m \u001b[1;33m=\u001b[0m \u001b[1;34m'/imaging/jb07/CALM/Modularity/connectome/'\u001b[0m\u001b[1;33m\u001b[0m\u001b[0m\n\u001b[0;32m      3\u001b[0m \u001b[0mfilename\u001b[0m \u001b[1;33m=\u001b[0m \u001b[1;32mlambda\u001b[0m\u001b[1;33m(\u001b[0m\u001b[0msubject\u001b[0m\u001b[1;33m)\u001b[0m\u001b[1;33m:\u001b[0m \u001b[0min_folder\u001b[0m \u001b[1;33m+\u001b[0m \u001b[1;34m'_subject_id_'\u001b[0m \u001b[1;33m+\u001b[0m \u001b[0msubject\u001b[0m \u001b[1;33m+\u001b[0m \u001b[1;34m'/_model_CSA/_threshold_10/calc_matrix/mapflow/_calc_matrix0/'\u001b[0m \u001b[1;33m+\u001b[0m \u001b[0msubject\u001b[0m \u001b[1;33m+\u001b[0m \u001b[1;34m'_FA_matrix.txt'\u001b[0m\u001b[1;33m\u001b[0m\u001b[0m\n\u001b[1;32m----> 4\u001b[1;33m \u001b[0msubject_list\u001b[0m \u001b[1;33m=\u001b[0m \u001b[0msorted\u001b[0m\u001b[1;33m(\u001b[0m\u001b[1;33m[\u001b[0m\u001b[0msubject\u001b[0m \u001b[1;32mfor\u001b[0m \u001b[0msubject\u001b[0m \u001b[1;32min\u001b[0m \u001b[0mbehavioural_df\u001b[0m\u001b[1;33m[\u001b[0m\u001b[1;34m'MRI.ID'\u001b[0m\u001b[1;33m]\u001b[0m\u001b[1;33m.\u001b[0m\u001b[0mvalues\u001b[0m \u001b[1;32mif\u001b[0m \u001b[0mos\u001b[0m\u001b[1;33m.\u001b[0m\u001b[0mpath\u001b[0m\u001b[1;33m.\u001b[0m\u001b[0misfile\u001b[0m\u001b[1;33m(\u001b[0m\u001b[0mfilename\u001b[0m\u001b[1;33m(\u001b[0m\u001b[0msubject\u001b[0m\u001b[1;33m)\u001b[0m\u001b[1;33m)\u001b[0m\u001b[1;33m]\u001b[0m\u001b[1;33m)\u001b[0m\u001b[1;33m\u001b[0m\u001b[0m\n\u001b[0m\u001b[0;32m      5\u001b[0m \u001b[0mbehavioural_df\u001b[0m \u001b[1;33m=\u001b[0m \u001b[0mbehavioural_df\u001b[0m\u001b[1;33m[\u001b[0m\u001b[0mbehavioural_df\u001b[0m\u001b[1;33m[\u001b[0m\u001b[1;34m'MRI.ID'\u001b[0m\u001b[1;33m]\u001b[0m\u001b[1;33m.\u001b[0m\u001b[0misin\u001b[0m\u001b[1;33m(\u001b[0m\u001b[0msubject_list\u001b[0m\u001b[1;33m)\u001b[0m\u001b[1;33m]\u001b[0m\u001b[1;33m\u001b[0m\u001b[0m\n\u001b[0;32m      6\u001b[0m \u001b[0mnetworks\u001b[0m \u001b[1;33m=\u001b[0m \u001b[0mnp\u001b[0m\u001b[1;33m.\u001b[0m\u001b[0mrollaxis\u001b[0m\u001b[1;33m(\u001b[0m\u001b[0mnp\u001b[0m\u001b[1;33m.\u001b[0m\u001b[0masarray\u001b[0m\u001b[1;33m(\u001b[0m\u001b[1;33m[\u001b[0m\u001b[0mnp\u001b[0m\u001b[1;33m.\u001b[0m\u001b[0mloadtxt\u001b[0m\u001b[1;33m(\u001b[0m\u001b[0mfilename\u001b[0m\u001b[1;33m(\u001b[0m\u001b[0msubject\u001b[0m\u001b[1;33m)\u001b[0m\u001b[1;33m)\u001b[0m \u001b[1;32mfor\u001b[0m \u001b[0msubject\u001b[0m \u001b[1;32min\u001b[0m \u001b[0msubject_list\u001b[0m\u001b[1;33m]\u001b[0m\u001b[1;33m)\u001b[0m\u001b[1;33m,\u001b[0m \u001b[1;36m0\u001b[0m\u001b[1;33m,\u001b[0m \u001b[1;36m3\u001b[0m\u001b[1;33m)\u001b[0m\u001b[1;33m\u001b[0m\u001b[0m\n",
      "\u001b[1;32m<ipython-input-235-4f7e85e76acc>\u001b[0m in \u001b[0;36m<lambda>\u001b[1;34m(subject)\u001b[0m\n\u001b[0;32m      1\u001b[0m \u001b[1;31m# Loading the data\u001b[0m\u001b[1;33m\u001b[0m\u001b[1;33m\u001b[0m\u001b[0m\n\u001b[0;32m      2\u001b[0m \u001b[0min_folder\u001b[0m \u001b[1;33m=\u001b[0m \u001b[1;34m'/imaging/jb07/CALM/Modularity/connectome/'\u001b[0m\u001b[1;33m\u001b[0m\u001b[0m\n\u001b[1;32m----> 3\u001b[1;33m \u001b[0mfilename\u001b[0m \u001b[1;33m=\u001b[0m \u001b[1;32mlambda\u001b[0m\u001b[1;33m(\u001b[0m\u001b[0msubject\u001b[0m\u001b[1;33m)\u001b[0m\u001b[1;33m:\u001b[0m \u001b[0min_folder\u001b[0m \u001b[1;33m+\u001b[0m \u001b[1;34m'_subject_id_'\u001b[0m \u001b[1;33m+\u001b[0m \u001b[0msubject\u001b[0m \u001b[1;33m+\u001b[0m \u001b[1;34m'/_model_CSA/_threshold_10/calc_matrix/mapflow/_calc_matrix0/'\u001b[0m \u001b[1;33m+\u001b[0m \u001b[0msubject\u001b[0m \u001b[1;33m+\u001b[0m \u001b[1;34m'_FA_matrix.txt'\u001b[0m\u001b[1;33m\u001b[0m\u001b[0m\n\u001b[0m\u001b[0;32m      4\u001b[0m \u001b[0msubject_list\u001b[0m \u001b[1;33m=\u001b[0m \u001b[0msorted\u001b[0m\u001b[1;33m(\u001b[0m\u001b[1;33m[\u001b[0m\u001b[0msubject\u001b[0m \u001b[1;32mfor\u001b[0m \u001b[0msubject\u001b[0m \u001b[1;32min\u001b[0m \u001b[0mbehavioural_df\u001b[0m\u001b[1;33m[\u001b[0m\u001b[1;34m'MRI.ID'\u001b[0m\u001b[1;33m]\u001b[0m\u001b[1;33m.\u001b[0m\u001b[0mvalues\u001b[0m \u001b[1;32mif\u001b[0m \u001b[0mos\u001b[0m\u001b[1;33m.\u001b[0m\u001b[0mpath\u001b[0m\u001b[1;33m.\u001b[0m\u001b[0misfile\u001b[0m\u001b[1;33m(\u001b[0m\u001b[0mfilename\u001b[0m\u001b[1;33m(\u001b[0m\u001b[0msubject\u001b[0m\u001b[1;33m)\u001b[0m\u001b[1;33m)\u001b[0m\u001b[1;33m]\u001b[0m\u001b[1;33m)\u001b[0m\u001b[1;33m\u001b[0m\u001b[0m\n\u001b[0;32m      5\u001b[0m \u001b[0mbehavioural_df\u001b[0m \u001b[1;33m=\u001b[0m \u001b[0mbehavioural_df\u001b[0m\u001b[1;33m[\u001b[0m\u001b[0mbehavioural_df\u001b[0m\u001b[1;33m[\u001b[0m\u001b[1;34m'MRI.ID'\u001b[0m\u001b[1;33m]\u001b[0m\u001b[1;33m.\u001b[0m\u001b[0misin\u001b[0m\u001b[1;33m(\u001b[0m\u001b[0msubject_list\u001b[0m\u001b[1;33m)\u001b[0m\u001b[1;33m]\u001b[0m\u001b[1;33m\u001b[0m\u001b[0m\n",
      "\u001b[1;31mTypeError\u001b[0m: cannot concatenate 'str' and 'float' objects"
     ]
    }
   ],
   "source": [
    "# Loading the data\n",
    "in_folder = '/imaging/jb07/CALM/Modularity/connectome/'\n",
    "filename = lambda(subject): in_folder + '_subject_id_' + subject + '/_model_CSA/_threshold_10/calc_matrix/mapflow/_calc_matrix0/' + subject + '_FA_matrix.txt'\n",
    "subject_list = sorted([subject for subject in behavioural_df['MRI.ID'].values if os.path.isfile(filename(subject))])\n",
    "behavioural_df = behavioural_df[behavioural_df['MRI.ID'].isin(subject_list)]\n",
    "networks = np.rollaxis(np.asarray([np.loadtxt(filename(subject)) for subject in subject_list]), 0, 3)\n",
    "np.place(networks, np.isnan(networks), 0) # replacing nan values\n",
    "\n",
    "# Removing regions that are not of interest\n",
    "aparc_indices = networkfunctions.aparc_indices('/imaging/jb07/CALM/Modularity/connectome/FreeSurfer/CBU150084/parcellation/aparc_expanded.nii.gz')\n",
    "new_networks = list()\n",
    "\n",
    "for counter in range(0,networks.shape[2]):\n",
    "    network = networks[..., counter]\n",
    "    network = network[aparc_indices, ...]\n",
    "    network = network[..., aparc_indices]\n",
    "    new_networks.append(np.squeeze(network))\n",
    "\n",
    "networks = np.rollaxis(np.asarray(new_networks), 0, 3)"
   ]
  },
  {
   "cell_type": "code",
   "execution_count": null,
   "metadata": {
    "collapsed": true
   },
   "outputs": [],
   "source": []
  }
 ],
 "metadata": {
  "kernelspec": {
   "display_name": "Python 2",
   "language": "python",
   "name": "python2"
  },
  "language_info": {
   "codemirror_mode": {
    "name": "ipython",
    "version": 2
   },
   "file_extension": ".py",
   "mimetype": "text/x-python",
   "name": "python",
   "nbconvert_exporter": "python",
   "pygments_lexer": "ipython2",
   "version": "2.7.12"
  }
 },
 "nbformat": 4,
 "nbformat_minor": 0
}
