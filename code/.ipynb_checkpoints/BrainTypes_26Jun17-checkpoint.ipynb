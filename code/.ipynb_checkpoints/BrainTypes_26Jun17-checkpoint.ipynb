{
 "cells": [
  {
   "cell_type": "code",
   "execution_count": 1,
   "metadata": {
    "collapsed": false,
    "scrolled": true
   },
   "outputs": [
    {
     "name": "stdout",
     "output_type": "stream",
     "text": [
      "Populating the interactive namespace from numpy and matplotlib\n"
     ]
    }
   ],
   "source": [
    "%pylab inline"
   ]
  },
  {
   "cell_type": "code",
   "execution_count": 4,
   "metadata": {
    "collapsed": true
   },
   "outputs": [],
   "source": [
    "import sys\n",
    "sys.path.append('/home/jb07/joe_python/GitHub/Neuroimaging_PythonTools/')"
   ]
  },
  {
   "cell_type": "code",
   "execution_count": 6,
   "metadata": {
    "collapsed": false
   },
   "outputs": [],
   "source": [
    "import itertools\n",
    "import matplotlib.pyplot as plt\n",
    "from matplotlib.colors import LinearSegmentedColormap\n",
    "import networkfunctions\n",
    "import numpy as np\n",
    "import os\n",
    "import pandas as pd\n",
    "from scipy.stats import spearmanr, sem, ttest_ind, zscore\n",
    "import seaborn as sns\n",
    "from statsmodels.sandbox.stats.multicomp import multipletests\n",
    "from statsmodels.formula.api import ols"
   ]
  },
  {
   "cell_type": "code",
   "execution_count": 7,
   "metadata": {
    "collapsed": true
   },
   "outputs": [],
   "source": [
    "import bct\n",
    "import networkfunctions"
   ]
  },
  {
   "cell_type": "code",
   "execution_count": 8,
   "metadata": {
    "collapsed": true
   },
   "outputs": [],
   "source": [
    "def get_imaging_ID(ID_string):\n",
    "    # Reading data from the lookup table\n",
    "    import pandas as pd\n",
    "    data = pd.Series.from_csv('/imaging/jb07/CALM/MRI ID match Jan17.csv')\n",
    "\n",
    "    # Removing brackts\n",
    "    import re\n",
    "    for counter in range(1,len(data)):\n",
    "        entry = data[counter]\n",
    "        if re.search(r\"[(){}[\\]]+\",str(entry)):\n",
    "            data[counter] = entry[1:-1]\n",
    "\n",
    "    # Getting the matching ID\n",
    "    try:\n",
    "        ID = data[data.index == ID_string].values.tolist()\n",
    "        return ID[0]\n",
    "    except:\n",
    "        return float('nan')"
   ]
  },
  {
   "cell_type": "code",
   "execution_count": 9,
   "metadata": {
    "collapsed": true
   },
   "outputs": [],
   "source": [
    "def get_consensus_module_assignment(network, iterations):\n",
    "    #================================\n",
    "    # Obtain the consensus module structure\n",
    "    #================================\n",
    "    \"\"\"\n",
    "    inputs:\n",
    "    adjacency_matrix: adjacency_matrix\n",
    "    gamma: gamma value\n",
    "\n",
    "    outputs:\n",
    "    vector of module assignment for each node\n",
    "    \"\"\"\n",
    "    import numpy as np\n",
    "    consensus_matrices = list()\n",
    "\n",
    "    for i in range(0,iterations):\n",
    "        consensus_matrix,modules,q = get_consensus_matrix(network)\n",
    "        consensus_matrices.append(consensus_matrix)\n",
    "\n",
    "    mean_consensus_matrix = np.mean(consensus_matrices,axis=0)\n",
    "\n",
    "    consensus_matrix,modules,q = get_consensus_matrix(mean_consensus_matrix)\n",
    "    consensus_matrix2,modules,q = get_consensus_matrix(mean_consensus_matrix)\n",
    "\n",
    "    while abs(np.sum(consensus_matrix - consensus_matrix2)) != 0:\n",
    "        consensus_matrix,modules,q = get_consensus_matrix(mean_consensus_matrix)\n",
    "        consensus_matrix2,modules,q = get_consensus_matrix(mean_consensus_matrix)\n",
    "\n",
    "    return (modules, q)\n",
    "\n",
    "def get_consensus_matrix(network):\n",
    "    import bct\n",
    "    import numpy as np\n",
    "    modules,q = bct.modularity_louvain_und_sign(network, qtype='smp')\n",
    "    module_matrix = np.repeat(modules,repeats=network.shape[0])\n",
    "    module_matrix = np.reshape(module_matrix,newshape=network.shape)\n",
    "    consensus_matrix = module_matrix == module_matrix.transpose()\n",
    "    return (consensus_matrix.astype('float'), modules, q)\n",
    "\n",
    "def plot_matrix(network):\n",
    "    import matplotlib.pyplot as plt\n",
    "    from mpl_toolkits.axes_grid1 import make_axes_locatable\n",
    "\n",
    "    plt.figure(figsize=(one_half_column/2, one_half_column/2), dpi=300)\n",
    "    im = plt.imshow(network, \n",
    "               cmap='bwr',\n",
    "               interpolation='none',\n",
    "               vmin=-1, vmax=1)\n",
    "    ax = plt.gca()\n",
    "    ax.grid('off')\n",
    "    divider = make_axes_locatable(ax)\n",
    "    cax = divider.append_axes(\"right\", size=\"5%\", pad=0.05)\n",
    "    cb = plt.colorbar(im, cax=cax)\n",
    "    cb.set_label('Pearson correlation coefficient R')\n",
    "    cb.ax.yaxis.set_label_position('right')\n",
    "    plt.tight_layout(pad=0, w_pad=1, h_pad=0)\n",
    "    \n",
    "def plot_community_matrix(network, community_affiliation):\n",
    "    import matplotlib.pyplot as plt\n",
    "    from mpl_toolkits.axes_grid1 import make_axes_locatable\n",
    "\n",
    "    sorting_array = sorted(range(len(community_affiliation)), key=lambda k: community_affiliation[k])\n",
    "    sorted_network = network[sorting_array, :]\n",
    "    sorted_network = sorted_network[:, sorting_array]\n",
    "    plt.figure(figsize=(one_half_column/2, one_half_column/2), dpi=300)\n",
    "    im = plt.imshow(sorted_network, \n",
    "               cmap='bwr',\n",
    "               interpolation='none',\n",
    "               vmin=-1, vmax=1)\n",
    "    ax = plt.gca()\n",
    "    ax.grid('off')\n",
    "    divider = make_axes_locatable(ax)\n",
    "    cax = divider.append_axes(\"right\", size=\"5%\", pad=0.05)\n",
    "    cb = plt.colorbar(im, cax=cax)\n",
    "    cb.set_label('Pearson correlation coefficient R')\n",
    "    cb.ax.yaxis.set_label_position('right')\n",
    "    plt.tight_layout(pad=0, w_pad=1, h_pad=0)"
   ]
  },
  {
   "cell_type": "code",
   "execution_count": 10,
   "metadata": {
    "collapsed": true
   },
   "outputs": [],
   "source": [
    "from matplotlib import rcParams  \n",
    "rcParams['font.family'] = 'serif'  \n",
    "rcParams['font.serif'] = ['Computer Modern Unicode']  \n",
    "rcParams['text.usetex'] = True  \n",
    "rcParams['axes.labelsize'] = 9  \n",
    "rcParams['xtick.labelsize'] = 9  \n",
    "rcParams['ytick.labelsize'] = 9  \n",
    "rcParams['legend.fontsize'] = 9  \n",
    "mm2inches = 0.039371\n",
    "single_column = 90*mm2inches\n",
    "double_column = 190*mm2inches\n",
    "one_half_column = 140*mm2inches"
   ]
  },
  {
   "cell_type": "markdown",
   "metadata": {},
   "source": [
    "Loading the behavioural data"
   ]
  },
  {
   "cell_type": "code",
   "execution_count": 11,
   "metadata": {
    "collapsed": false
   },
   "outputs": [],
   "source": [
    "behavioural_df = pd.read_csv('../data/raw_data/CALM_behavioural_data_Apr17.csv')\n",
    "behavioural_df = behavioural_df[behavioural_df['ID No.'].isin(behavioural_df['ID No.'].dropna())]\n",
    "behavioural_df['MRI.ID'] = [get_imaging_ID(str(int(ID))) for ID in behavioural_df['ID No.']]\n",
    "measures = ['WIAT_Spelling_Raw', 'WIAT_Reading_Raw', 'WIAT_Numerical_raw', 'Matrix_Reasoning_Raw', 'PPVT_Raw', 'AWMA_Digit_Recall_Raw', 'AWMA_Dot_Matrix_Raw', 'AWMA_Backward_Digit__Raw', 'AWMA_Mr_X__Raw', 'CMS_delayed_raw']\n",
    "analysis_df = behavioural_df[np.hstack([['MRI.ID', 'Age_in_months', 'Gender(1=male)'], measures])]"
   ]
  },
  {
   "cell_type": "code",
   "execution_count": 12,
   "metadata": {
    "collapsed": false
   },
   "outputs": [],
   "source": [
    "# Drop missing values \n",
    "analysis_df = analysis_df.dropna()\n",
    "\n",
    "# Regress the effect of age\n",
    "for measure in measures:\n",
    "    analysis_df[measure] = ols(measure + ' ~ Age_in_months', data=analysis_df).fit().resid\n",
    "\n",
    "# Z-transform\n",
    "analysis_df[measures] = analysis_df[measures].apply(zscore)"
   ]
  },
  {
   "cell_type": "markdown",
   "metadata": {},
   "source": [
    "Loading the imaging data"
   ]
  },
  {
   "cell_type": "code",
   "execution_count": 13,
   "metadata": {
    "collapsed": false
   },
   "outputs": [],
   "source": [
    "# Loading the data\n",
    "in_folder = '/imaging/jb07/CALM/Modularity/connectome/'\n",
    "filename = lambda(subject): in_folder + '_subject_id_' + subject + '/_model_CSD/_threshold_10/calc_matrix/mapflow/_calc_matrix0/' + subject + '_dwi_CSD_10_matrix.txt'\n",
    "subject_list = sorted([subject for subject in analysis_df['MRI.ID'].values if os.path.isfile(filename(subject))])"
   ]
  },
  {
   "cell_type": "code",
   "execution_count": 14,
   "metadata": {
    "collapsed": false
   },
   "outputs": [],
   "source": [
    "# Checking the data quality\n",
    "dwi_motion = pd.read_csv('/imaging/jb07/CALM/DWI/motion_estimation/Displacement_Results.csv')\n",
    "dwi_motion.columns = ['MRI.ID', 'movement', 'volumes']\n",
    "useable_subjects = dwi_motion[(dwi_motion['movement'] < 3) & (dwi_motion['volumes'] == 69)]['MRI.ID'].values\n",
    "\n",
    "T1_useable = pd.read_csv('/imaging/jb07/CALM/T1/T1_useable_data.csv')\n",
    "T1_useable = T1_useable[T1_useable['useable'] == 1]\n",
    "useable_subjects = T1_useable[T1_useable['MRI.ID'].isin(useable_subjects)]['MRI.ID'].values"
   ]
  },
  {
   "cell_type": "code",
   "execution_count": 15,
   "metadata": {
    "collapsed": false
   },
   "outputs": [],
   "source": [
    "subject_list = pd.Series(subject_list)[pd.Series(subject_list).isin(useable_subjects)].values"
   ]
  },
  {
   "cell_type": "code",
   "execution_count": 16,
   "metadata": {
    "collapsed": true
   },
   "outputs": [],
   "source": [
    "analysis_df = analysis_df[analysis_df['MRI.ID'].isin(subject_list)]\n",
    "networks = np.rollaxis(np.asarray([np.log(np.loadtxt(filename(subject))) for subject in subject_list]), 0, 3)\n",
    "np.place(networks, np.isnan(networks), 0) # replacing nan values\n",
    "np.place(networks, np.isinf(networks), 0) # replacing nan values\n",
    "\n",
    "# Removing regions that are not of interest\n",
    "aparc_indices = networkfunctions.aparc_indices('/imaging/jb07/CALM/Modularity/connectome/FreeSurfer/CBU150084/parcellation/aparc_expanded.nii.gz')\n",
    "new_networks = list()\n",
    "\n",
    "for counter in range(0,networks.shape[2]):\n",
    "    network = networks[..., counter]\n",
    "    network = network[aparc_indices, ...]\n",
    "    network = network[..., aparc_indices]\n",
    "    new_networks.append(np.squeeze(network))\n",
    "\n",
    "networks = np.rollaxis(np.asarray(new_networks), 0, 3)"
   ]
  },
  {
   "cell_type": "code",
   "execution_count": 17,
   "metadata": {
    "collapsed": true
   },
   "outputs": [],
   "source": [
    "connectome_measure = np.asarray([bct.degrees_und(networks[...,i]) for i in np.arange(0, networks.shape[2])])"
   ]
  },
  {
   "cell_type": "code",
   "execution_count": 18,
   "metadata": {
    "collapsed": true
   },
   "outputs": [],
   "source": [
    "for region in np.arange(connectome_measure.shape[1]):\n",
    "    temp_df = pd.DataFrame({'y': connectome_measure[:,region], 'x': analysis_df['Age_in_months'].values})\n",
    "    connectome_measure[:, region] = ols('y ~ x', data=temp_df).fit().resid"
   ]
  },
  {
   "cell_type": "code",
   "execution_count": 19,
   "metadata": {
    "collapsed": false
   },
   "outputs": [],
   "source": [
    "qs = []\n",
    "\n",
    "for variance_threshold in np.arange(0, 80, 10):\n",
    "    measure = connectome_measure.copy()\n",
    "    feature_variance = np.var(connectome_measure, axis=0)\n",
    "    measure = measure[:, feature_variance > np.percentile(feature_variance, variance_threshold)]\n",
    "    measure = zscore(measure)\n",
    "    correlation_matrix = pd.DataFrame(measure).transpose().corr().values\n",
    "    community_affiliation,q = get_consensus_module_assignment(correlation_matrix, 100)\n",
    "    qs.append(q)\n",
    "    \n",
    "best_variance_threshold = np.arange(0, 80, 10)[np.where(qs == np.max(qs))[0][0]]"
   ]
  },
  {
   "cell_type": "code",
   "execution_count": 20,
   "metadata": {
    "collapsed": false
   },
   "outputs": [
    {
     "name": "stdout",
     "output_type": "stream",
     "text": [
      "Best variance threshold: 20\n"
     ]
    }
   ],
   "source": [
    "print('Best variance threshold: %i' % best_variance_threshold)"
   ]
  },
  {
   "cell_type": "code",
   "execution_count": 21,
   "metadata": {
    "collapsed": true
   },
   "outputs": [],
   "source": [
    "connectome_measure = np.asarray([bct.strengths_und(networks[...,i]) for i in np.arange(0, networks.shape[2])])\n",
    "\n",
    "for region in np.arange(connectome_measure.shape[1]):\n",
    "    temp_df = pd.DataFrame({'y': connectome_measure[:,region], 'x': analysis_df['Age_in_months'].values})\n",
    "    connectome_measure[:, region] = ols('y ~ x', data=temp_df).fit().resid"
   ]
  },
  {
   "cell_type": "code",
   "execution_count": 22,
   "metadata": {
    "collapsed": true
   },
   "outputs": [],
   "source": [
    "feature_variance = np.var(connectome_measure, axis=0)\n",
    "connectome_measure = connectome_measure[:, feature_variance > np.percentile(feature_variance, best_variance_threshold)]\n",
    "connectome_measure = zscore(connectome_measure)\n",
    "correlation_matrix = pd.DataFrame(connectome_measure).transpose().corr().values"
   ]
  },
  {
   "cell_type": "code",
   "execution_count": 23,
   "metadata": {
    "collapsed": true
   },
   "outputs": [],
   "source": [
    "community_affiliation,q = get_consensus_module_assignment(correlation_matrix, 100)"
   ]
  },
  {
   "cell_type": "code",
   "execution_count": 24,
   "metadata": {
    "collapsed": false
   },
   "outputs": [
    {
     "name": "stderr",
     "output_type": "stream",
     "text": [
      "/home/jb07/anaconda/lib/python2.7/site-packages/matplotlib/collections.py:590: FutureWarning: elementwise comparison failed; returning scalar instead, but in the future will perform elementwise comparison\n",
      "  if self._edgecolors == str('face'):\n"
     ]
    },
    {
     "data": {
      "image/png": "[encoded data removed]",
      "text/plain": [
       "<matplotlib.figure.Figure at 0x7fd1e8f5e910>"
      ]
     },
     "metadata": {},
     "output_type": "display_data"
    }
   ],
   "source": [
    "plot_matrix(correlation_matrix)"
   ]
  },
  {
   "cell_type": "code",
   "execution_count": 25,
   "metadata": {
    "collapsed": false
   },
   "outputs": [
    {
     "data": {
      "image/png": "[encoded data removed]",
      "text/plain": [
       "<matplotlib.figure.Figure at 0x7fd1ed7abb10>"
      ]
     },
     "metadata": {},
     "output_type": "display_data"
    }
   ],
   "source": [
    "plot_community_matrix(correlation_matrix, community_affiliation)"
   ]
  },
  {
   "cell_type": "code",
   "execution_count": 27,
   "metadata": {
    "collapsed": false
   },
   "outputs": [
    {
     "name": "stdout",
     "output_type": "stream",
     "text": [
      "Quality index: 0.53\n"
     ]
    }
   ],
   "source": [
    "print('Quality index: %.2f' % q)"
   ]
  },
  {
   "cell_type": "code",
   "execution_count": 29,
   "metadata": {
    "collapsed": true
   },
   "outputs": [],
   "source": [
    "analysis_df['groups'] = community_affiliation"
   ]
  },
  {
   "cell_type": "code",
   "execution_count": 30,
   "metadata": {
    "collapsed": false
   },
   "outputs": [],
   "source": [
    "results = pd.DataFrame()\n",
    "group_comparisons = list(itertools.combinations(np.unique(analysis_df['groups']), 2))\n",
    "\n",
    "for measure in measures:\n",
    "    for group_comparison in group_comparisons:\n",
    "        group1 = analysis_df[analysis_df['groups'] == group_comparison[0]][measure].values\n",
    "        group2 = analysis_df[analysis_df['groups'] == group_comparison[1]][measure].values\n",
    "        t,p = ttest_ind(group1, group2)\n",
    "        results.set_value(measure, str(group_comparison), p)\n",
    "\n",
    "rej, p, alphaSidak, alphaBonferroni = multipletests(results.values.flatten(), alpha=0.05, method='bonferroni')\n",
    "binarized_results = 1*(results.values < alphaBonferroni).transpose()"
   ]
  },
  {
   "cell_type": "code",
   "execution_count": 31,
   "metadata": {
    "collapsed": false
   },
   "outputs": [
    {
     "data": {
      "text/plain": [
       "array([[0, 0, 0, 0, 0, 0, 0, 0, 0, 0],\n",
       "       [0, 0, 0, 0, 0, 0, 0, 0, 0, 0],\n",
       "       [0, 0, 0, 0, 0, 0, 0, 0, 0, 0]])"
      ]
     },
     "execution_count": 31,
     "metadata": {},
     "output_type": "execute_result"
    }
   ],
   "source": [
    "binarized_results"
   ]
  },
  {
   "cell_type": "code",
   "execution_count": null,
   "metadata": {
    "collapsed": true
   },
   "outputs": [],
   "source": []
  }
 ],
 "metadata": {
  "kernelspec": {
   "display_name": "Python 2",
   "language": "python",
   "name": "python2"
  },
  "language_info": {
   "codemirror_mode": {
    "name": "ipython",
    "version": 2
   },
   "file_extension": ".py",
   "mimetype": "text/x-python",
   "name": "python",
   "nbconvert_exporter": "python",
   "pygments_lexer": "ipython2",
   "version": "2.7.12"
  }
 },
 "nbformat": 4,
 "nbformat_minor": 0
}
